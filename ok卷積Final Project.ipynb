{
 "cells": [
  {
   "cell_type": "code",
   "execution_count": 2,
   "metadata": {},
   "outputs": [
    {
     "name": "stderr",
     "output_type": "stream",
     "text": [
      "Using TensorFlow backend.\n"
     ]
    },
    {
     "data": {
      "text/html": [
       "<div>\n",
       "<style scoped>\n",
       "    .dataframe tbody tr th:only-of-type {\n",
       "        vertical-align: middle;\n",
       "    }\n",
       "\n",
       "    .dataframe tbody tr th {\n",
       "        vertical-align: top;\n",
       "    }\n",
       "\n",
       "    .dataframe thead th {\n",
       "        text-align: right;\n",
       "    }\n",
       "</style>\n",
       "<table border=\"1\" class=\"dataframe\">\n",
       "  <thead>\n",
       "    <tr style=\"text-align: right;\">\n",
       "      <th></th>\n",
       "      <th>review</th>\n",
       "    </tr>\n",
       "    <tr>\n",
       "      <th>label</th>\n",
       "      <th></th>\n",
       "    </tr>\n",
       "  </thead>\n",
       "  <tbody>\n",
       "    <tr>\n",
       "      <th>1</th>\n",
       "      <td>很快，好吃，味道足，量大</td>\n",
       "    </tr>\n",
       "    <tr>\n",
       "      <th>1</th>\n",
       "      <td>沒有送水沒有送水沒有送水</td>\n",
       "    </tr>\n",
       "    <tr>\n",
       "      <th>1</th>\n",
       "      <td>非常快，態度好。</td>\n",
       "    </tr>\n",
       "    <tr>\n",
       "      <th>1</th>\n",
       "      <td>方便，快捷，味道可口，快遞給力</td>\n",
       "    </tr>\n",
       "    <tr>\n",
       "      <th>1</th>\n",
       "      <td>菜味道很棒！送餐很及時！</td>\n",
       "    </tr>\n",
       "    <tr>\n",
       "      <th>1</th>\n",
       "      <td>今天師傅是不是手抖了，微辣格外辣！</td>\n",
       "    </tr>\n",
       "    <tr>\n",
       "      <th>1</th>\n",
       "      <td>送餐快,態度也特別好,辛苦啦謝謝</td>\n",
       "    </tr>\n",
       "    <tr>\n",
       "      <th>1</th>\n",
       "      <td>超級快就送到了，這麼冷的天氣騎士們辛苦了。謝謝你們。麻辣香鍋依然很好吃。</td>\n",
       "    </tr>\n",
       "    <tr>\n",
       "      <th>1</th>\n",
       "      <td>經過上次晚了2小時，這次超級快，20分鐘就送到了……</td>\n",
       "    </tr>\n",
       "    <tr>\n",
       "      <th>1</th>\n",
       "      <td>最後五分鐘訂的，賣家特別好接單了，謝謝。</td>\n",
       "    </tr>\n",
       "    <tr>\n",
       "      <th>1</th>\n",
       "      <td>量大，好吃，每次點的都夠吃兩次</td>\n",
       "    </tr>\n",
       "    <tr>\n",
       "      <th>1</th>\n",
       "      <td>挺辣的，吃著還可以吧</td>\n",
       "    </tr>\n",
       "    <tr>\n",
       "      <th>1</th>\n",
       "      <td>味道好，送餐快，分量足</td>\n",
       "    </tr>\n",
       "    <tr>\n",
       "      <th>1</th>\n",
       "      <td>量足，好吃，送餐也快</td>\n",
       "    </tr>\n",
       "    <tr>\n",
       "      <th>1</th>\n",
       "      <td>特別好吃，量特大，而且送餐特別快，特別特別棒</td>\n",
       "    </tr>\n",
       "    <tr>\n",
       "      <th>1</th>\n",
       "      <td>口感好的很，速度快！</td>\n",
       "    </tr>\n",
       "    <tr>\n",
       "      <th>1</th>\n",
       "      <td>相當好吃的香鍋，分量夠足，味道也沒的說。</td>\n",
       "    </tr>\n",
       "    <tr>\n",
       "      <th>1</th>\n",
       "      <td>好吃！速度！包裝也有品質，不出家門就能吃到餐廳的味道！</td>\n",
       "    </tr>\n",
       "    <tr>\n",
       "      <th>1</th>\n",
       "      <td>味道好極啦，送餐很快師傅辛苦啦</td>\n",
       "    </tr>\n",
       "    <tr>\n",
       "      <th>1</th>\n",
       "      <td>量大味道好，送餐師傅都很好</td>\n",
       "    </tr>\n",
       "  </tbody>\n",
       "</table>\n",
       "</div>"
      ],
      "text/plain": [
       "                                     review\n",
       "label                                      \n",
       "1                              很快，好吃，味道足，量大\n",
       "1                              沒有送水沒有送水沒有送水\n",
       "1                                  非常快，態度好。\n",
       "1                           方便，快捷，味道可口，快遞給力\n",
       "1                              菜味道很棒！送餐很及時！\n",
       "1                         今天師傅是不是手抖了，微辣格外辣！\n",
       "1                          送餐快,態度也特別好,辛苦啦謝謝\n",
       "1      超級快就送到了，這麼冷的天氣騎士們辛苦了。謝謝你們。麻辣香鍋依然很好吃。\n",
       "1                經過上次晚了2小時，這次超級快，20分鐘就送到了……\n",
       "1                      最後五分鐘訂的，賣家特別好接單了，謝謝。\n",
       "1                           量大，好吃，每次點的都夠吃兩次\n",
       "1                                挺辣的，吃著還可以吧\n",
       "1                               味道好，送餐快，分量足\n",
       "1                                量足，好吃，送餐也快\n",
       "1                    特別好吃，量特大，而且送餐特別快，特別特別棒\n",
       "1                                口感好的很，速度快！\n",
       "1                      相當好吃的香鍋，分量夠足，味道也沒的說。\n",
       "1               好吃！速度！包裝也有品質，不出家門就能吃到餐廳的味道！\n",
       "1                           味道好極啦，送餐很快師傅辛苦啦\n",
       "1                             量大味道好，送餐師傅都很好"
      ]
     },
     "execution_count": 2,
     "metadata": {},
     "output_type": "execute_result"
    }
   ],
   "source": [
    "import keras\n",
    "import pandas as pd\n",
    "from opencc import OpenCC\n",
    "\n",
    "cc = OpenCC('s2twp') # 簡體中文 -> 繁體中文 (台灣, 包含慣用詞轉換)\n",
    "train = pd.read_csv('ok.csv', index_col=0) # 讀取資料\n",
    "\n",
    "# 將簡體轉為繁體\n",
    "for i in range(train.size):\n",
    "    train['review'].values[i] = cc.convert(train['review'].values[i])\n",
    "\n",
    "train.head(20)"
   ]
  },
  {
   "cell_type": "code",
   "execution_count": 3,
   "metadata": {},
   "outputs": [],
   "source": [
    "import jieba.posseg as pseg\n",
    "\n",
    "def jieba_tokenizer(text):\n",
    "    words = pseg.cut(text)\n",
    "    return ' '.join([word for word, flag in words if flag != 'x'])"
   ]
  },
  {
   "cell_type": "code",
   "execution_count": 4,
   "metadata": {},
   "outputs": [
    {
     "name": "stderr",
     "output_type": "stream",
     "text": [
      "Building prefix dict from the default dictionary ...\n",
      "Loading model from cache /var/folders/tb/rh2yw6nd28z6bmjxb_jt94q00000gn/T/jieba.cache\n",
      "Loading model cost 0.634 seconds.\n",
      "Prefix dict has been built successfully.\n"
     ]
    },
    {
     "name": "stdout",
     "output_type": "stream",
     "text": [
      "超級 快 就 送到 了 這麼 冷 的 天氣 騎士 們 辛苦 了 謝謝 你們 麻辣 香鍋 依然 很 好吃\n"
     ]
    }
   ],
   "source": [
    "print(jieba_tokenizer('超級快就送到了，這麼冷的天氣騎士們辛苦了。謝謝你們。麻辣香鍋依然很好吃。'))"
   ]
  },
  {
   "cell_type": "code",
   "execution_count": 5,
   "metadata": {},
   "outputs": [],
   "source": [
    "train['review_tokenized'] = train.loc[:, 'review'].apply(jieba_tokenizer) # 將review分詞，會需要一點時間是正常der"
   ]
  },
  {
   "cell_type": "code",
   "execution_count": 6,
   "metadata": {},
   "outputs": [],
   "source": [
    "# Tokenizer 顧名思義，即是將一段文字轉換成一系列的詞彙（Tokens），並為其建立字典。\n",
    "# 這邊的 num_words=10000 代表我們限制字典只能包含 10,000 個詞彙，一旦字典達到這個大小以後，\n",
    "# 剩餘的新詞彙都會被視為 Unknown，以避免字典過於龐大。\n",
    "\n",
    "MAX_NUM_WORDS = 10000\n",
    "tokenizer = keras.preprocessing.text.Tokenizer(num_words=MAX_NUM_WORDS)"
   ]
  },
  {
   "cell_type": "code",
   "execution_count": 7,
   "metadata": {},
   "outputs": [
    {
     "data": {
      "text/html": [
       "<div>\n",
       "<style scoped>\n",
       "    .dataframe tbody tr th:only-of-type {\n",
       "        vertical-align: middle;\n",
       "    }\n",
       "\n",
       "    .dataframe tbody tr th {\n",
       "        vertical-align: top;\n",
       "    }\n",
       "\n",
       "    .dataframe thead th {\n",
       "        text-align: right;\n",
       "    }\n",
       "</style>\n",
       "<table border=\"1\" class=\"dataframe\">\n",
       "  <thead>\n",
       "    <tr style=\"text-align: right;\">\n",
       "      <th></th>\n",
       "      <th>review</th>\n",
       "      <th>review_tokenized</th>\n",
       "    </tr>\n",
       "    <tr>\n",
       "      <th>label</th>\n",
       "      <th></th>\n",
       "      <th></th>\n",
       "    </tr>\n",
       "  </thead>\n",
       "  <tbody>\n",
       "    <tr>\n",
       "      <th>1</th>\n",
       "      <td>很快，好吃，味道足，量大</td>\n",
       "      <td>很快 好吃 味道 足 量 大</td>\n",
       "    </tr>\n",
       "    <tr>\n",
       "      <th>1</th>\n",
       "      <td>沒有送水沒有送水沒有送水</td>\n",
       "      <td>沒有 送水 沒有 送水 沒有 送水</td>\n",
       "    </tr>\n",
       "    <tr>\n",
       "      <th>1</th>\n",
       "      <td>非常快，態度好。</td>\n",
       "      <td>非常 快 態度 好</td>\n",
       "    </tr>\n",
       "    <tr>\n",
       "      <th>1</th>\n",
       "      <td>方便，快捷，味道可口，快遞給力</td>\n",
       "      <td>方便 快捷 味道 可口 快 遞 給 力</td>\n",
       "    </tr>\n",
       "    <tr>\n",
       "      <th>1</th>\n",
       "      <td>菜味道很棒！送餐很及時！</td>\n",
       "      <td>菜 味道 很棒 送餐 很 及時</td>\n",
       "    </tr>\n",
       "  </tbody>\n",
       "</table>\n",
       "</div>"
      ],
      "text/plain": [
       "                review     review_tokenized\n",
       "label                                      \n",
       "1         很快，好吃，味道足，量大       很快 好吃 味道 足 量 大\n",
       "1         沒有送水沒有送水沒有送水    沒有 送水 沒有 送水 沒有 送水\n",
       "1             非常快，態度好。            非常 快 態度 好\n",
       "1      方便，快捷，味道可口，快遞給力  方便 快捷 味道 可口 快 遞 給 力\n",
       "1         菜味道很棒！送餐很及時！      菜 味道 很棒 送餐 很 及時"
      ]
     },
     "execution_count": 7,
     "metadata": {},
     "output_type": "execute_result"
    }
   ],
   "source": [
    "train.head()"
   ]
  },
  {
   "cell_type": "code",
   "execution_count": 8,
   "metadata": {},
   "outputs": [
    {
     "data": {
      "text/plain": [
       "(15144,)"
      ]
     },
     "execution_count": 8,
     "metadata": {},
     "output_type": "execute_result"
    }
   ],
   "source": [
    "corpus = train.review_tokenized\n",
    "corpus.shape"
   ]
  },
  {
   "cell_type": "code",
   "execution_count": 9,
   "metadata": {},
   "outputs": [
    {
     "data": {
      "text/plain": [
       "label\n",
       "1         很快 好吃 味道 足 量 大\n",
       "1      沒有 送水 沒有 送水 沒有 送水\n",
       "1              非常 快 態度 好\n",
       "1    方便 快捷 味道 可口 快 遞 給 力\n",
       "1        菜 味道 很棒 送餐 很 及時\n",
       "Name: review_tokenized, dtype: object"
      ]
     },
     "execution_count": 9,
     "metadata": {},
     "output_type": "execute_result"
    }
   ],
   "source": [
    "corpus.head()"
   ]
  },
  {
   "cell_type": "code",
   "execution_count": 10,
   "metadata": {},
   "outputs": [
    {
     "data": {
      "text/html": [
       "<div>\n",
       "<style scoped>\n",
       "    .dataframe tbody tr th:only-of-type {\n",
       "        vertical-align: middle;\n",
       "    }\n",
       "\n",
       "    .dataframe tbody tr th {\n",
       "        vertical-align: top;\n",
       "    }\n",
       "\n",
       "    .dataframe thead th {\n",
       "        text-align: right;\n",
       "    }\n",
       "</style>\n",
       "<table border=\"1\" class=\"dataframe\">\n",
       "  <thead>\n",
       "    <tr style=\"text-align: right;\">\n",
       "      <th></th>\n",
       "      <th>review</th>\n",
       "    </tr>\n",
       "  </thead>\n",
       "  <tbody>\n",
       "  </tbody>\n",
       "</table>\n",
       "</div>"
      ],
      "text/plain": [
       "Empty DataFrame\n",
       "Columns: [review]\n",
       "Index: []"
      ]
     },
     "execution_count": 10,
     "metadata": {},
     "output_type": "execute_result"
    }
   ],
   "source": [
    "pd.DataFrame(corpus.iloc[:5],columns=['review'])"
   ]
  },
  {
   "cell_type": "code",
   "execution_count": 11,
   "metadata": {},
   "outputs": [],
   "source": [
    "# 呼叫 tokenizer 為我們查看所有文本，並建立一個字典\n",
    "# 2. 建立一個空字典\n",
    "# 3. 查看所有review，裏頭每出現一個字典裡頭沒有的詞彙，就為該詞彙指定一個字典裡頭還沒出現的索引數字，並將該詞彙放入字典\n",
    "\n",
    "tokenizer.fit_on_texts(corpus)"
   ]
  },
  {
   "cell_type": "code",
   "execution_count": 12,
   "metadata": {},
   "outputs": [],
   "source": [
    "# 4.利用建好的字典，將每個review裡頭包含的詞彙轉換成數字\n",
    "x_train = tokenizer.texts_to_sequences(corpus)"
   ]
  },
  {
   "cell_type": "code",
   "execution_count": 13,
   "metadata": {},
   "outputs": [
    {
     "data": {
      "text/plain": [
       "15144"
      ]
     },
     "execution_count": 13,
     "metadata": {},
     "output_type": "execute_result"
    }
   ],
   "source": [
    "len(x_train)"
   ]
  },
  {
   "cell_type": "code",
   "execution_count": 14,
   "metadata": {},
   "outputs": [
    {
     "data": {
      "text/plain": [
       "[[67, 3, 17, 349, 84, 78]]"
      ]
     },
     "execution_count": 14,
     "metadata": {},
     "output_type": "execute_result"
    }
   ],
   "source": [
    "# x_train 為一個 Python list，裡頭包含了每一筆review對應的數字序列。\n",
    "x_train[:1] "
   ]
  },
  {
   "cell_type": "code",
   "execution_count": 15,
   "metadata": {},
   "outputs": [
    {
     "name": "stdout",
     "output_type": "stream",
     "text": [
      "['很快', '好吃', '味道', '足', '量', '大']\n"
     ]
    }
   ],
   "source": [
    "# 利用 tokenizer.index_word 來將索引數字對應回本來的詞彙\n",
    "for seq in x_train[:1]:\n",
    "    print([tokenizer.index_word[idx] for idx in seq])"
   ]
  },
  {
   "cell_type": "code",
   "execution_count": 16,
   "metadata": {},
   "outputs": [
    {
     "name": "stdout",
     "output_type": "stream",
     "text": [
      "6 [67, 3, 17, 349, 84]  ...\n",
      "6 [25, 2963, 25, 2963, 25]  ...\n",
      "4 [50, 26, 58, 11]  ...\n",
      "8 [364, 2500, 17, 1075, 26]  ...\n",
      "6 [39, 17, 406, 18, 7]  ...\n",
      "9 [148, 171, 338, 540, 2964]  ...\n",
      "9 [18, 26, 58, 13, 76]  ...\n",
      "20 [15, 26, 20, 30, 1]  ...\n",
      "15 [1787, 459, 109, 1, 105]  ...\n",
      "11 [123, 32, 954, 5065, 2]  ...\n",
      "10 [84, 78, 3, 255, 14]  ...\n",
      "6 [3660, 2, 639, 6, 69]  ...\n",
      "6 [17, 11, 18, 26, 318]  ...\n",
      "6 [84, 349, 3, 18, 13]  ...\n",
      "11 [76, 3, 84, 1788, 81]  ...\n",
      "6 [439, 11, 2, 7, 34]  ...\n",
      "11 [779, 3, 2, 1218, 318]  ...\n",
      "16 [3, 34, 100, 13, 23]  ...\n",
      "8 [17, 1289, 154, 18, 67]  ...\n",
      "9 [84, 78, 17, 11, 18]  ...\n"
     ]
    }
   ],
   "source": [
    "# 每個review的序列長度並不相同\n",
    "for seq in x_train[:20]:\n",
    "    print(len(seq), seq[:5], ' ...')"
   ]
  },
  {
   "cell_type": "code",
   "execution_count": 17,
   "metadata": {},
   "outputs": [
    {
     "data": {
      "text/plain": [
       "289"
      ]
     },
     "execution_count": 17,
     "metadata": {},
     "output_type": "execute_result"
    }
   ],
   "source": [
    "max_seq_len = max([\n",
    "    len(seq) for seq in x_train])\n",
    "max_seq_len"
   ]
  },
  {
   "cell_type": "code",
   "execution_count": 18,
   "metadata": {},
   "outputs": [],
   "source": [
    "# 為了方便之後的 NLP 模型處理一般會設定一個 MAX_SEQUENCE_LENGTH 來讓所有序列的長度一致。\n",
    "# 長度超過此數字的序列尾巴會被刪掉；而針對原來長度不足的序列，我們則會在詞彙前面補零。\n",
    "\n",
    "MAX_SEQUENCE_LENGTH = 25\n",
    "x_train = keras.preprocessing.sequence.pad_sequences(x_train, maxlen=MAX_SEQUENCE_LENGTH)"
   ]
  },
  {
   "cell_type": "code",
   "execution_count": 19,
   "metadata": {},
   "outputs": [
    {
     "data": {
      "text/plain": [
       "array([  0,   0,   0,   0,   0,   0,   0,   0,   0,   0,   0,   0,   0,\n",
       "         0,   0,   0,   0,   0,   0,  67,   3,  17, 349,  84,  78],\n",
       "      dtype=int32)"
      ]
     },
     "execution_count": 19,
     "metadata": {},
     "output_type": "execute_result"
    }
   ],
   "source": [
    "x_train[0]"
   ]
  },
  {
   "cell_type": "code",
   "execution_count": 20,
   "metadata": {},
   "outputs": [
    {
     "data": {
      "text/plain": [
       "array([[   0,    0,    0,    0,    0,    0,    0,    0,    0,    0,    0,\n",
       "           0,    0,    0,    0,    0,    0,    0,    0,   67,    3,   17,\n",
       "         349,   84,   78],\n",
       "       [   0,    0,    0,    0,    0,    0,    0,    0,    0,    0,    0,\n",
       "           0,    0,    0,    0,    0,    0,    0,    0,   25, 2963,   25,\n",
       "        2963,   25, 2963],\n",
       "       [   0,    0,    0,    0,    0,    0,    0,    0,    0,    0,    0,\n",
       "           0,    0,    0,    0,    0,    0,    0,    0,    0,    0,   50,\n",
       "          26,   58,   11],\n",
       "       [   0,    0,    0,    0,    0,    0,    0,    0,    0,    0,    0,\n",
       "           0,    0,    0,    0,    0,    0,  364, 2500,   17, 1075,   26,\n",
       "         131,   24,  324],\n",
       "       [   0,    0,    0,    0,    0,    0,    0,    0,    0,    0,    0,\n",
       "           0,    0,    0,    0,    0,    0,    0,    0,   39,   17,  406,\n",
       "          18,    7,  325]], dtype=int32)"
      ]
     },
     "execution_count": 20,
     "metadata": {},
     "output_type": "execute_result"
    }
   ],
   "source": [
    "x_train[:5]"
   ]
  },
  {
   "cell_type": "code",
   "execution_count": 21,
   "metadata": {},
   "outputs": [],
   "source": [
    "train['label'] = train.index"
   ]
  },
  {
   "cell_type": "code",
   "execution_count": 22,
   "metadata": {
    "scrolled": true
   },
   "outputs": [
    {
     "data": {
      "text/html": [
       "<div>\n",
       "<style scoped>\n",
       "    .dataframe tbody tr th:only-of-type {\n",
       "        vertical-align: middle;\n",
       "    }\n",
       "\n",
       "    .dataframe tbody tr th {\n",
       "        vertical-align: top;\n",
       "    }\n",
       "\n",
       "    .dataframe thead th {\n",
       "        text-align: right;\n",
       "    }\n",
       "</style>\n",
       "<table border=\"1\" class=\"dataframe\">\n",
       "  <thead>\n",
       "    <tr style=\"text-align: right;\">\n",
       "      <th></th>\n",
       "      <th>review</th>\n",
       "      <th>review_tokenized</th>\n",
       "      <th>label</th>\n",
       "    </tr>\n",
       "    <tr>\n",
       "      <th>label</th>\n",
       "      <th></th>\n",
       "      <th></th>\n",
       "      <th></th>\n",
       "    </tr>\n",
       "  </thead>\n",
       "  <tbody>\n",
       "    <tr>\n",
       "      <th>1</th>\n",
       "      <td>很快，好吃，味道足，量大</td>\n",
       "      <td>很快 好吃 味道 足 量 大</td>\n",
       "      <td>1</td>\n",
       "    </tr>\n",
       "    <tr>\n",
       "      <th>1</th>\n",
       "      <td>沒有送水沒有送水沒有送水</td>\n",
       "      <td>沒有 送水 沒有 送水 沒有 送水</td>\n",
       "      <td>1</td>\n",
       "    </tr>\n",
       "    <tr>\n",
       "      <th>1</th>\n",
       "      <td>非常快，態度好。</td>\n",
       "      <td>非常 快 態度 好</td>\n",
       "      <td>1</td>\n",
       "    </tr>\n",
       "    <tr>\n",
       "      <th>1</th>\n",
       "      <td>方便，快捷，味道可口，快遞給力</td>\n",
       "      <td>方便 快捷 味道 可口 快 遞 給 力</td>\n",
       "      <td>1</td>\n",
       "    </tr>\n",
       "    <tr>\n",
       "      <th>1</th>\n",
       "      <td>菜味道很棒！送餐很及時！</td>\n",
       "      <td>菜 味道 很棒 送餐 很 及時</td>\n",
       "      <td>1</td>\n",
       "    </tr>\n",
       "  </tbody>\n",
       "</table>\n",
       "</div>"
      ],
      "text/plain": [
       "                review     review_tokenized  label\n",
       "label                                             \n",
       "1         很快，好吃，味道足，量大       很快 好吃 味道 足 量 大      1\n",
       "1         沒有送水沒有送水沒有送水    沒有 送水 沒有 送水 沒有 送水      1\n",
       "1             非常快，態度好。            非常 快 態度 好      1\n",
       "1      方便，快捷，味道可口，快遞給力  方便 快捷 味道 可口 快 遞 給 力      1\n",
       "1         菜味道很棒！送餐很及時！      菜 味道 很棒 送餐 很 及時      1"
      ]
     },
     "execution_count": 22,
     "metadata": {},
     "output_type": "execute_result"
    }
   ],
   "source": [
    "train.head()"
   ]
  },
  {
   "cell_type": "code",
   "execution_count": 23,
   "metadata": {},
   "outputs": [],
   "source": [
    "train = train[['label', 'review', 'review_tokenized']]"
   ]
  },
  {
   "cell_type": "code",
   "execution_count": 24,
   "metadata": {},
   "outputs": [
    {
     "data": {
      "text/html": [
       "<div>\n",
       "<style scoped>\n",
       "    .dataframe tbody tr th:only-of-type {\n",
       "        vertical-align: middle;\n",
       "    }\n",
       "\n",
       "    .dataframe tbody tr th {\n",
       "        vertical-align: top;\n",
       "    }\n",
       "\n",
       "    .dataframe thead th {\n",
       "        text-align: right;\n",
       "    }\n",
       "</style>\n",
       "<table border=\"1\" class=\"dataframe\">\n",
       "  <thead>\n",
       "    <tr style=\"text-align: right;\">\n",
       "      <th></th>\n",
       "      <th>label</th>\n",
       "      <th>review</th>\n",
       "      <th>review_tokenized</th>\n",
       "    </tr>\n",
       "  </thead>\n",
       "  <tbody>\n",
       "    <tr>\n",
       "      <th>0</th>\n",
       "      <td>1</td>\n",
       "      <td>很快，好吃，味道足，量大</td>\n",
       "      <td>很快 好吃 味道 足 量 大</td>\n",
       "    </tr>\n",
       "    <tr>\n",
       "      <th>1</th>\n",
       "      <td>1</td>\n",
       "      <td>沒有送水沒有送水沒有送水</td>\n",
       "      <td>沒有 送水 沒有 送水 沒有 送水</td>\n",
       "    </tr>\n",
       "    <tr>\n",
       "      <th>2</th>\n",
       "      <td>1</td>\n",
       "      <td>非常快，態度好。</td>\n",
       "      <td>非常 快 態度 好</td>\n",
       "    </tr>\n",
       "    <tr>\n",
       "      <th>3</th>\n",
       "      <td>1</td>\n",
       "      <td>方便，快捷，味道可口，快遞給力</td>\n",
       "      <td>方便 快捷 味道 可口 快 遞 給 力</td>\n",
       "    </tr>\n",
       "    <tr>\n",
       "      <th>4</th>\n",
       "      <td>1</td>\n",
       "      <td>菜味道很棒！送餐很及時！</td>\n",
       "      <td>菜 味道 很棒 送餐 很 及時</td>\n",
       "    </tr>\n",
       "  </tbody>\n",
       "</table>\n",
       "</div>"
      ],
      "text/plain": [
       "   label           review     review_tokenized\n",
       "0      1     很快，好吃，味道足，量大       很快 好吃 味道 足 量 大\n",
       "1      1     沒有送水沒有送水沒有送水    沒有 送水 沒有 送水 沒有 送水\n",
       "2      1         非常快，態度好。            非常 快 態度 好\n",
       "3      1  方便，快捷，味道可口，快遞給力  方便 快捷 味道 可口 快 遞 給 力\n",
       "4      1     菜味道很棒！送餐很及時！      菜 味道 很棒 送餐 很 及時"
      ]
     },
     "execution_count": 24,
     "metadata": {},
     "output_type": "execute_result"
    }
   ],
   "source": [
    "train.reset_index(drop=True, inplace=True)\n",
    "train.head()"
   ]
  },
  {
   "cell_type": "code",
   "execution_count": 25,
   "metadata": {},
   "outputs": [
    {
     "data": {
      "text/plain": [
       "array([1., 1., 1., 1., 1.], dtype=float32)"
      ]
     },
     "execution_count": 25,
     "metadata": {},
     "output_type": "execute_result"
    }
   ],
   "source": [
    "import numpy as np\n",
    "y_train = train['label']\n",
    "y_train = np.asarray(y_train).astype('float32')\n",
    "y_train[:5]"
   ]
  },
  {
   "cell_type": "code",
   "execution_count": 26,
   "metadata": {},
   "outputs": [
    {
     "name": "stdout",
     "output_type": "stream",
     "text": [
      "(15144,)\n"
     ]
    }
   ],
   "source": [
    "print(y_train.shape)"
   ]
  },
  {
   "cell_type": "code",
   "execution_count": 27,
   "metadata": {},
   "outputs": [
    {
     "data": {
      "text/plain": [
       "array([[0., 1.],\n",
       "       [0., 1.],\n",
       "       [0., 1.],\n",
       "       [0., 1.],\n",
       "       [0., 1.]], dtype=float32)"
      ]
     },
     "execution_count": 27,
     "metadata": {},
     "output_type": "execute_result"
    }
   ],
   "source": [
    "# One Hot Encoding\n",
    "y_train = keras.utils.to_categorical(y_train)\n",
    "\n",
    "y_train[:5] # [0, 1] -> label為1 (正面評論)"
   ]
  },
  {
   "cell_type": "code",
   "execution_count": 28,
   "metadata": {
    "scrolled": true
   },
   "outputs": [
    {
     "data": {
      "text/html": [
       "<div>\n",
       "<style scoped>\n",
       "    .dataframe tbody tr th:only-of-type {\n",
       "        vertical-align: middle;\n",
       "    }\n",
       "\n",
       "    .dataframe tbody tr th {\n",
       "        vertical-align: top;\n",
       "    }\n",
       "\n",
       "    .dataframe thead th {\n",
       "        text-align: right;\n",
       "    }\n",
       "</style>\n",
       "<table border=\"1\" class=\"dataframe\">\n",
       "  <thead>\n",
       "    <tr style=\"text-align: right;\">\n",
       "      <th></th>\n",
       "      <th>label</th>\n",
       "      <th>review</th>\n",
       "      <th>review_tokenized</th>\n",
       "    </tr>\n",
       "  </thead>\n",
       "  <tbody>\n",
       "    <tr>\n",
       "      <th>0</th>\n",
       "      <td>1</td>\n",
       "      <td>很快，好吃，味道足，量大</td>\n",
       "      <td>很快 好吃 味道 足 量 大</td>\n",
       "    </tr>\n",
       "    <tr>\n",
       "      <th>1</th>\n",
       "      <td>1</td>\n",
       "      <td>沒有送水沒有送水沒有送水</td>\n",
       "      <td>沒有 送水 沒有 送水 沒有 送水</td>\n",
       "    </tr>\n",
       "    <tr>\n",
       "      <th>2</th>\n",
       "      <td>1</td>\n",
       "      <td>非常快，態度好。</td>\n",
       "      <td>非常 快 態度 好</td>\n",
       "    </tr>\n",
       "    <tr>\n",
       "      <th>3</th>\n",
       "      <td>1</td>\n",
       "      <td>方便，快捷，味道可口，快遞給力</td>\n",
       "      <td>方便 快捷 味道 可口 快 遞 給 力</td>\n",
       "    </tr>\n",
       "    <tr>\n",
       "      <th>4</th>\n",
       "      <td>1</td>\n",
       "      <td>菜味道很棒！送餐很及時！</td>\n",
       "      <td>菜 味道 很棒 送餐 很 及時</td>\n",
       "    </tr>\n",
       "  </tbody>\n",
       "</table>\n",
       "</div>"
      ],
      "text/plain": [
       "   label           review     review_tokenized\n",
       "0      1     很快，好吃，味道足，量大       很快 好吃 味道 足 量 大\n",
       "1      1     沒有送水沒有送水沒有送水    沒有 送水 沒有 送水 沒有 送水\n",
       "2      1         非常快，態度好。            非常 快 態度 好\n",
       "3      1  方便，快捷，味道可口，快遞給力  方便 快捷 味道 可口 快 遞 給 力\n",
       "4      1     菜味道很棒！送餐很及時！      菜 味道 很棒 送餐 很 及時"
      ]
     },
     "execution_count": 28,
     "metadata": {},
     "output_type": "execute_result"
    }
   ],
   "source": [
    "train.head()"
   ]
  },
  {
   "cell_type": "code",
   "execution_count": 29,
   "metadata": {},
   "outputs": [
    {
     "data": {
      "text/plain": [
       "array([[   0,    0,    0, ...,  349,   84,   78],\n",
       "       [   0,    0,    0, ..., 2963,   25, 2963],\n",
       "       [   0,    0,    0, ...,   26,   58,   11],\n",
       "       ...,\n",
       "       [   0,    0,    0, ...,    0,    3,    3],\n",
       "       [   0,    0,    0, ...,    0,   15,    3],\n",
       "       [   0,    0,    0, ...,    0,   15,    3]], dtype=int32)"
      ]
     },
     "execution_count": 29,
     "metadata": {},
     "output_type": "execute_result"
    }
   ],
   "source": [
    "x_train"
   ]
  },
  {
   "cell_type": "code",
   "execution_count": 30,
   "metadata": {},
   "outputs": [
    {
     "data": {
      "text/plain": [
       "array([[0., 1.],\n",
       "       [0., 1.],\n",
       "       [0., 1.],\n",
       "       ...,\n",
       "       [0., 1.],\n",
       "       [0., 1.],\n",
       "       [0., 1.]], dtype=float32)"
      ]
     },
     "execution_count": 30,
     "metadata": {},
     "output_type": "execute_result"
    }
   ],
   "source": [
    "y_train"
   ]
  },
  {
   "cell_type": "code",
   "execution_count": 31,
   "metadata": {},
   "outputs": [],
   "source": [
    "# 將dataset分為訓練資料集 / 驗證資料集\n",
    "from sklearn.model_selection import train_test_split\n",
    "\n",
    "VALIDATION_RATIO = 0.1\n",
    "RANDOM_STATE = 9527\n",
    "\n",
    "x_train, x_val,y_train, y_val = train_test_split(x_train, y_train,test_size=VALIDATION_RATIO,random_state=RANDOM_STATE)"
   ]
  },
  {
   "cell_type": "code",
   "execution_count": 32,
   "metadata": {},
   "outputs": [
    {
     "name": "stdout",
     "output_type": "stream",
     "text": [
      "Training Set\n",
      "----------\n",
      "x_train: (13629, 25)\n",
      "y_train : (13629, 2)\n",
      "----------\n",
      "Validation Set\n",
      "----------\n",
      "x_val:   (1515, 25)\n",
      "y_val :   (1515, 2)\n",
      "----------\n"
     ]
    }
   ],
   "source": [
    "print(\"Training Set\")\n",
    "print(\"-\" * 10)\n",
    "print(f\"x_train: {x_train.shape}\")\n",
    "print(f\"y_train : {y_train.shape}\")\n",
    "print(\"-\"*10)\n",
    "\n",
    "print(\"Validation Set\")\n",
    "print(\"-\" * 10)\n",
    "print(f\"x_val:   {x_val.shape}\")\n",
    "print(f\"y_val :   {y_val.shape}\")\n",
    "print(\"-\" * 10)\n",
    "\n",
    "# print(\"Test Set\")\n",
    "# print(\"-\"*10)\n",
    "# print(f\"x_test: {x_test.shape}\")\n",
    "# print(f\"y_test: {y_test.shape}\")\n",
    "# print(\"-\" * 10)"
   ]
  },
  {
   "cell_type": "markdown",
   "metadata": {},
   "source": [
    "## 將dataset放進model進行訓練"
   ]
  },
  {
   "cell_type": "code",
   "execution_count": 33,
   "metadata": {},
   "outputs": [],
   "source": [
    "# 基本參數設置，有幾個分類\n",
    "NUM_CLASSES = 2 # 正面/負面\n",
    "\n",
    "# 在語料庫裡有多少詞彙\n",
    "MAX_NUM_WORDS = 10000\n",
    "\n",
    "# 一個標題最長有幾個詞彙\n",
    "MAX_SEQUENCE_LENGTH = 25\n",
    "\n",
    "# 一個詞向量的維度\n",
    "NUM_EMBEDDING_DIM = 256\n",
    "\n",
    "# LSTM 輸出的向量維度\n",
    "NUM_LSTM_UNITS = 128"
   ]
  },
  {
   "cell_type": "code",
   "execution_count": 54,
   "metadata": {},
   "outputs": [],
   "source": [
    "from keras import Input\n",
    "from keras.layers import Embedding, LSTM, concatenate, Dense, Dropout\n",
    "from keras.models import Model, Sequential\n",
    "\n",
    "# 定義 review 為模型輸入\n",
    "# review為一個長度為 50 的數字序列\n",
    "review_input = Input(\n",
    "    shape=(MAX_SEQUENCE_LENGTH, ), \n",
    "    dtype='int32')\n",
    "\n",
    "# 詞嵌入層\n",
    "# 經過詞嵌入層的轉換，review變成一個詞向量的序列，\n",
    "# 而每個詞向量的維度為 256\n",
    "embedding_layer = Embedding(\n",
    "    MAX_NUM_WORDS, NUM_EMBEDDING_DIM)\n",
    "review_embedded = embedding_layer(\n",
    "    review_input)\n",
    "\n",
    "# LSTM 層\n",
    "# review經過此層後\n",
    "# 為一個 128 維度向量\n",
    "shared_lstm = LSTM(NUM_LSTM_UNITS)\n",
    "review_output = shared_lstm(review_embedded)\n",
    "\n",
    "# 全連接層搭配 Softmax Activation\n",
    "# 回傳review屬於正面/負面的可能機率\n",
    "dense =  Dense(units=NUM_CLASSES,activation='softmax')\n",
    "predictions = dense(review_output)\n",
    "\n",
    "# 我們的模型就是將數字序列的輸入，轉換\n",
    "# 成 2 個分類的機率的所有步驟 / 層的總和\n",
    "model = Model(inputs=[review_input],outputs=predictions)"
   ]
  },
  {
   "cell_type": "code",
   "execution_count": 35,
   "metadata": {
    "scrolled": true
   },
   "outputs": [
    {
     "name": "stdout",
     "output_type": "stream",
     "text": [
      "Model: \"model_1\"\n",
      "_________________________________________________________________\n",
      "Layer (type)                 Output Shape              Param #   \n",
      "=================================================================\n",
      "input_1 (InputLayer)         (None, 25)                0         \n",
      "_________________________________________________________________\n",
      "embedding_1 (Embedding)      (None, 25, 256)           2560000   \n",
      "_________________________________________________________________\n",
      "lstm_1 (LSTM)                (None, 128)               197120    \n",
      "_________________________________________________________________\n",
      "dense_1 (Dense)              (None, 2)                 258       \n",
      "=================================================================\n",
      "Total params: 2,757,378\n",
      "Trainable params: 2,757,378\n",
      "Non-trainable params: 0\n",
      "_________________________________________________________________\n"
     ]
    }
   ],
   "source": [
    "model.summary()"
   ]
  },
  {
   "cell_type": "code",
   "execution_count": 36,
   "metadata": {},
   "outputs": [
    {
     "data": {
      "text/plain": [
       "(9527, 25)"
      ]
     },
     "execution_count": 36,
     "metadata": {},
     "output_type": "execute_result"
    }
   ],
   "source": [
    "x_train[:9527].shape # 確認前9527筆資料的shape"
   ]
  },
  {
   "cell_type": "code",
   "execution_count": 37,
   "metadata": {},
   "outputs": [],
   "source": [
    "model.compile(\n",
    "    optimizer='rmsprop',\n",
    "    loss='categorical_crossentropy',\n",
    "    metrics=['accuracy'])"
   ]
  },
  {
   "cell_type": "code",
   "execution_count": 38,
   "metadata": {
    "scrolled": true
   },
   "outputs": [
    {
     "name": "stdout",
     "output_type": "stream",
     "text": [
      "WARNING:tensorflow:From //anaconda3/lib/python3.7/site-packages/keras/backend/tensorflow_backend.py:422: The name tf.global_variables is deprecated. Please use tf.compat.v1.global_variables instead.\n",
      "\n",
      "Train on 13629 samples, validate on 1515 samples\n",
      "Epoch 1/10\n",
      "13629/13629 [==============================] - 14s 1ms/step - loss: 0.4004 - accuracy: 0.8099 - val_loss: 0.2753 - val_accuracy: 0.8990\n",
      "Epoch 2/10\n",
      "13629/13629 [==============================] - 14s 1ms/step - loss: 0.2246 - accuracy: 0.9144 - val_loss: 0.2353 - val_accuracy: 0.9116\n",
      "Epoch 3/10\n",
      "13629/13629 [==============================] - 14s 994us/step - loss: 0.1864 - accuracy: 0.9298 - val_loss: 0.2326 - val_accuracy: 0.9149\n",
      "Epoch 4/10\n",
      "13629/13629 [==============================] - 13s 942us/step - loss: 0.1583 - accuracy: 0.9398 - val_loss: 0.2584 - val_accuracy: 0.9096\n",
      "Epoch 5/10\n",
      "13629/13629 [==============================] - 13s 949us/step - loss: 0.1399 - accuracy: 0.9484 - val_loss: 0.2530 - val_accuracy: 0.9102\n",
      "Epoch 6/10\n",
      "13629/13629 [==============================] - 13s 968us/step - loss: 0.1226 - accuracy: 0.9559 - val_loss: 0.2625 - val_accuracy: 0.9149\n",
      "Epoch 7/10\n",
      "13629/13629 [==============================] - 13s 967us/step - loss: 0.1124 - accuracy: 0.9582 - val_loss: 0.2803 - val_accuracy: 0.9102\n",
      "Epoch 8/10\n",
      "13629/13629 [==============================] - 13s 946us/step - loss: 0.1008 - accuracy: 0.9619 - val_loss: 0.3128 - val_accuracy: 0.9069\n",
      "Epoch 9/10\n",
      "13629/13629 [==============================] - 13s 974us/step - loss: 0.0896 - accuracy: 0.9670 - val_loss: 0.3334 - val_accuracy: 0.9030\n",
      "Epoch 10/10\n",
      "13629/13629 [==============================] - 14s 998us/step - loss: 0.0829 - accuracy: 0.9692 - val_loss: 0.3557 - val_accuracy: 0.9017\n"
     ]
    }
   ],
   "source": [
    "# 決定一次要放多少review給模型訓練\n",
    "BATCH_SIZE = 512\n",
    "\n",
    "# 決定模型要看整個訓練資料集幾遍\n",
    "NUM_EPOCHS = 10\n",
    "\n",
    "# 實際訓練模型\n",
    "history = model.fit(\n",
    "    # 輸入是一個長度為 25 的數字序列\n",
    "    x=[x_train], \n",
    "    y=y_train,\n",
    "    batch_size=BATCH_SIZE,\n",
    "    epochs=NUM_EPOCHS,\n",
    "    # 每個 epoch 完後計算驗證資料集上的 Loss 以及準確度\n",
    "    validation_data=(\n",
    "        [x_val], \n",
    "        y_val\n",
    "    ),\n",
    "    # 每個 epoch 隨機調整訓練資料集\n",
    "    # 裡頭的數據以讓訓練過程更穩定\n",
    "    shuffle=True\n",
    ")"
   ]
  },
  {
   "cell_type": "code",
   "execution_count": 125,
   "metadata": {},
   "outputs": [
    {
     "name": "stdout",
     "output_type": "stream",
     "text": [
      "Train on 13629 samples, validate on 1515 samples\n",
      "Epoch 1/10\n",
      "13629/13629 [==============================] - 13s 988us/step - loss: 1.0299 - accuracy: 0.5256 - val_loss: 0.6858 - val_accuracy: 0.5353\n",
      "Epoch 2/10\n",
      "13629/13629 [==============================] - 11s 834us/step - loss: 0.6860 - accuracy: 0.5265 - val_loss: 0.6845 - val_accuracy: 0.5353\n",
      "Epoch 3/10\n",
      "13629/13629 [==============================] - 11s 830us/step - loss: 0.6846 - accuracy: 0.5265 - val_loss: 0.6832 - val_accuracy: 0.5353\n",
      "Epoch 4/10\n",
      "13629/13629 [==============================] - 11s 832us/step - loss: 0.6833 - accuracy: 0.5265 - val_loss: 0.6820 - val_accuracy: 0.5353\n",
      "Epoch 5/10\n",
      "13629/13629 [==============================] - 12s 847us/step - loss: 0.6819 - accuracy: 0.5266 - val_loss: 0.6808 - val_accuracy: 0.5353\n",
      "Epoch 6/10\n",
      "13629/13629 [==============================] - 12s 850us/step - loss: 0.6806 - accuracy: 0.5273 - val_loss: 0.6795 - val_accuracy: 0.5353\n",
      "Epoch 7/10\n",
      "13629/13629 [==============================] - 12s 853us/step - loss: 0.6792 - accuracy: 0.5298 - val_loss: 0.6782 - val_accuracy: 0.5353\n",
      "Epoch 8/10\n",
      "13629/13629 [==============================] - 11s 838us/step - loss: 0.6778 - accuracy: 0.5372 - val_loss: 0.6768 - val_accuracy: 0.5353\n",
      "Epoch 9/10\n",
      "13629/13629 [==============================] - 12s 854us/step - loss: 0.6763 - accuracy: 0.5628 - val_loss: 0.6755 - val_accuracy: 0.6356\n",
      "Epoch 10/10\n",
      "13629/13629 [==============================] - 12s 848us/step - loss: 0.6748 - accuracy: 0.6175 - val_loss: 0.6741 - val_accuracy: 0.6356\n"
     ]
    }
   ],
   "source": [
    "from keras import optimizers\n",
    "model1 = Sequential()\n",
    "#model1.add(Embedding(max_features, output_dim=256))\n",
    "model1.add(Embedding(MAX_NUM_WORDS, 256))\n",
    "model1.add(LSTM(128, activation=\"relu\"))\n",
    "model1.add(Dropout(0.02))\n",
    "model1.add(Dense(2))\n",
    "review_embedded = embedding_layer(\n",
    "    review_input)\n",
    "\n",
    "adamw=optimizers.SGD(lr=0.005)\n",
    "#, decay=1e-4\n",
    "              \n",
    "model1.compile(\n",
    "    optimizer=adamw,\n",
    "    loss='categorical_crossentropy',\n",
    "    metrics=['accuracy'])\n",
    "\n",
    "\n",
    "history1 = model1.fit(\n",
    "    # 輸入是一個長度為 25 的數字序列\n",
    "    x=[x_train], \n",
    "    y=y_train,\n",
    "    batch_size=512,\n",
    "    epochs=NUM_EPOCHS,\n",
    "    # 每個 epoch 完後計算驗證資料集上的 Loss 以及準確度\n",
    "    validation_data=(\n",
    "        [x_val], \n",
    "        y_val\n",
    "    ),\n",
    "    # 每個 epoch 隨機調整訓練資料集\n",
    "    # 裡頭的數據以讓訓練過程更穩定\n",
    "    shuffle=True\n",
    ")"
   ]
  },
  {
   "cell_type": "code",
   "execution_count": 126,
   "metadata": {},
   "outputs": [
    {
     "name": "stdout",
     "output_type": "stream",
     "text": [
      "{'val_loss': [0.685768455876769, 0.6844928584476508, 0.6832345912165374, 0.681998337377416, 0.6807578670703145, 0.6794922097287949, 0.6781832485309135, 0.6768377715998357, 0.675483778719068, 0.6741020792388287], 'val_accuracy': [0.5353135466575623, 0.5353135466575623, 0.5353135466575623, 0.5353135466575623, 0.5353135466575623, 0.5353135466575623, 0.5353135466575623, 0.5353135466575623, 0.6356435418128967, 0.6356435418128967], 'loss': [1.0298862979280703, 0.6859584487239371, 0.6845652777159045, 0.6832884573754531, 0.6818733658091899, 0.6806075638961666, 0.6791863664946436, 0.6777934005495055, 0.6763185360730984, 0.6748197695743452], 'accuracy': [0.5256438, 0.5265243, 0.5265243, 0.5265243, 0.5265977, 0.5273314, 0.5298261, 0.5371634, 0.56277055, 0.6175068]}\n"
     ]
    },
    {
     "data": {
      "image/png": "[encoded data removed]",
      "text/plain": [
       "<Figure size 432x288 with 1 Axes>"
      ]
     },
     "metadata": {
      "needs_background": "light"
     },
     "output_type": "display_data"
    },
    {
     "data": {
      "image/png": "[encoded data removed]",
      "text/plain": [
       "<Figure size 432x288 with 1 Axes>"
      ]
     },
     "metadata": {
      "needs_background": "light"
     },
     "output_type": "display_data"
    }
   ],
   "source": [
    "import matplotlib.pyplot as plt\n",
    "\n",
    "# graph (accuracy)\n",
    "print(history1.history)\n",
    "plt.plot(history1.history['accuracy'])\n",
    "plt.plot(history1.history['val_accuracy'])\n",
    "plt.xlabel('epoch')\n",
    "plt.ylabel('Accuracy')\n",
    "plt.legend(['train', 'val'], loc='upper left')\n",
    "plt.title('Model Accuracy')\n",
    "plt.show()\n",
    "\n",
    "# graph (loss)\n",
    "plt.plot(history1.history['loss'])\n",
    "plt.plot(history1.history['val_loss'])\n",
    "plt.xlabel('epoch')\n",
    "plt.ylabel('loss')\n",
    "plt.legend(['train', 'val'], loc='upper left')\n",
    "plt.title('Training loss')\n",
    "plt.show()"
   ]
  },
  {
   "cell_type": "code",
   "execution_count": 46,
   "metadata": {},
   "outputs": [
    {
     "ename": "AttributeError",
     "evalue": "'History' object has no attribute 'history1'",
     "output_type": "error",
     "traceback": [
      "\u001b[0;31m---------------------------------------------------------------------------\u001b[0m",
      "\u001b[0;31mAttributeError\u001b[0m                            Traceback (most recent call last)",
      "\u001b[0;32m<ipython-input-46-9e3df1819995>\u001b[0m in \u001b[0;36m<module>\u001b[0;34m\u001b[0m\n\u001b[1;32m      2\u001b[0m \u001b[0;34m\u001b[0m\u001b[0m\n\u001b[1;32m      3\u001b[0m \u001b[0;31m# graph (accuracy)\u001b[0m\u001b[0;34m\u001b[0m\u001b[0;34m\u001b[0m\u001b[0;34m\u001b[0m\u001b[0m\n\u001b[0;32m----> 4\u001b[0;31m \u001b[0mplt\u001b[0m\u001b[0;34m.\u001b[0m\u001b[0mplot\u001b[0m\u001b[0;34m(\u001b[0m\u001b[0mhistory\u001b[0m\u001b[0;34m.\u001b[0m\u001b[0mhistory1\u001b[0m\u001b[0;34m[\u001b[0m\u001b[0;34m'acc'\u001b[0m\u001b[0;34m]\u001b[0m\u001b[0;34m)\u001b[0m\u001b[0;34m\u001b[0m\u001b[0;34m\u001b[0m\u001b[0m\n\u001b[0m\u001b[1;32m      5\u001b[0m \u001b[0mplt\u001b[0m\u001b[0;34m.\u001b[0m\u001b[0mplot\u001b[0m\u001b[0;34m(\u001b[0m\u001b[0mhistory\u001b[0m\u001b[0;34m.\u001b[0m\u001b[0mhistory1\u001b[0m\u001b[0;34m[\u001b[0m\u001b[0;34m'val_acc'\u001b[0m\u001b[0;34m]\u001b[0m\u001b[0;34m)\u001b[0m\u001b[0;34m\u001b[0m\u001b[0;34m\u001b[0m\u001b[0m\n\u001b[1;32m      6\u001b[0m \u001b[0mplt\u001b[0m\u001b[0;34m.\u001b[0m\u001b[0mxlabel\u001b[0m\u001b[0;34m(\u001b[0m\u001b[0;34m'epoch'\u001b[0m\u001b[0;34m)\u001b[0m\u001b[0;34m\u001b[0m\u001b[0;34m\u001b[0m\u001b[0m\n",
      "\u001b[0;31mAttributeError\u001b[0m: 'History' object has no attribute 'history1'"
     ]
    }
   ],
   "source": [
    "import matplotlib.pyplot as plt\n",
    "\n",
    "# graph (accuracy)\n",
    "plt.plot(history.history['acc'])\n",
    "plt.plot(history.history['val_acc'])\n",
    "plt.xlabel('epoch')\n",
    "plt.ylabel('Accuracy')\n",
    "plt.legend(['train', 'val'], loc='upper left')\n",
    "plt.title('Model Accuracy')\n",
    "plt.show()\n",
    "\n",
    "# graph (loss)\n",
    "plt.plot(history.history['loss'])\n",
    "plt.plot(history.history['val_loss'])\n",
    "plt.xlabel('epoch')\n",
    "plt.ylabel('loss')\n",
    "plt.legend(['train', 'val'], loc='upper left')\n",
    "plt.title('Training loss')\n",
    "plt.show()"
   ]
  },
  {
   "cell_type": "markdown",
   "metadata": {},
   "source": [
    "## craweld test data"
   ]
  },
  {
   "cell_type": "code",
   "execution_count": 67,
   "metadata": {},
   "outputs": [
    {
     "ename": "KeyError",
     "evalue": "'caption'",
     "output_type": "error",
     "traceback": [
      "\u001b[0;31m---------------------------------------------------------------------------\u001b[0m",
      "\u001b[0;31mKeyError\u001b[0m                                  Traceback (most recent call last)",
      "\u001b[0;32m//anaconda3/lib/python3.7/site-packages/pandas/core/indexes/base.py\u001b[0m in \u001b[0;36mget_loc\u001b[0;34m(self, key, method, tolerance)\u001b[0m\n\u001b[1;32m   2656\u001b[0m             \u001b[0;32mtry\u001b[0m\u001b[0;34m:\u001b[0m\u001b[0;34m\u001b[0m\u001b[0;34m\u001b[0m\u001b[0m\n\u001b[0;32m-> 2657\u001b[0;31m                 \u001b[0;32mreturn\u001b[0m \u001b[0mself\u001b[0m\u001b[0;34m.\u001b[0m\u001b[0m_engine\u001b[0m\u001b[0;34m.\u001b[0m\u001b[0mget_loc\u001b[0m\u001b[0;34m(\u001b[0m\u001b[0mkey\u001b[0m\u001b[0;34m)\u001b[0m\u001b[0;34m\u001b[0m\u001b[0;34m\u001b[0m\u001b[0m\n\u001b[0m\u001b[1;32m   2658\u001b[0m             \u001b[0;32mexcept\u001b[0m \u001b[0mKeyError\u001b[0m\u001b[0;34m:\u001b[0m\u001b[0;34m\u001b[0m\u001b[0;34m\u001b[0m\u001b[0m\n",
      "\u001b[0;32mpandas/_libs/index.pyx\u001b[0m in \u001b[0;36mpandas._libs.index.IndexEngine.get_loc\u001b[0;34m()\u001b[0m\n",
      "\u001b[0;32mpandas/_libs/index.pyx\u001b[0m in \u001b[0;36mpandas._libs.index.IndexEngine.get_loc\u001b[0;34m()\u001b[0m\n",
      "\u001b[0;32mpandas/_libs/hashtable_class_helper.pxi\u001b[0m in \u001b[0;36mpandas._libs.hashtable.PyObjectHashTable.get_item\u001b[0;34m()\u001b[0m\n",
      "\u001b[0;32mpandas/_libs/hashtable_class_helper.pxi\u001b[0m in \u001b[0;36mpandas._libs.hashtable.PyObjectHashTable.get_item\u001b[0;34m()\u001b[0m\n",
      "\u001b[0;31mKeyError\u001b[0m: 'caption'",
      "\nDuring handling of the above exception, another exception occurred:\n",
      "\u001b[0;31mKeyError\u001b[0m                                  Traceback (most recent call last)",
      "\u001b[0;32m<ipython-input-67-d1664e030277>\u001b[0m in \u001b[0;36m<module>\u001b[0;34m\u001b[0m\n\u001b[1;32m      5\u001b[0m \u001b[0;31m# print(''.join([i for i in test_haidelao['caption'].values[1] if not i.isdigit()])\u001b[0m\u001b[0;34m\u001b[0m\u001b[0;34m\u001b[0m\u001b[0;34m\u001b[0m\u001b[0m\n\u001b[1;32m      6\u001b[0m \u001b[0;34m\u001b[0m\u001b[0m\n\u001b[0;32m----> 7\u001b[0;31m \u001b[0mtest_haidelao\u001b[0m \u001b[0;34m=\u001b[0m \u001b[0mpd\u001b[0m\u001b[0;34m.\u001b[0m\u001b[0mDataFrame\u001b[0m\u001b[0;34m(\u001b[0m\u001b[0mtest_csv\u001b[0m\u001b[0;34m[\u001b[0m\u001b[0;34m'caption'\u001b[0m\u001b[0;34m]\u001b[0m\u001b[0;34m.\u001b[0m\u001b[0mastype\u001b[0m\u001b[0;34m(\u001b[0m\u001b[0mstr\u001b[0m\u001b[0;34m)\u001b[0m\u001b[0;34m)\u001b[0m\u001b[0;34m\u001b[0m\u001b[0;34m\u001b[0m\u001b[0m\n\u001b[0m\u001b[1;32m      8\u001b[0m \u001b[0mtest_haidelao\u001b[0m\u001b[0;34m[\u001b[0m\u001b[0;34m'rating'\u001b[0m\u001b[0;34m]\u001b[0m \u001b[0;34m=\u001b[0m \u001b[0mtest_csv\u001b[0m\u001b[0;34m[\u001b[0m\u001b[0;34m'rating'\u001b[0m\u001b[0;34m]\u001b[0m\u001b[0;34m.\u001b[0m\u001b[0mastype\u001b[0m\u001b[0;34m(\u001b[0m\u001b[0mstr\u001b[0m\u001b[0;34m)\u001b[0m\u001b[0;34m\u001b[0m\u001b[0;34m\u001b[0m\u001b[0m\n\u001b[1;32m      9\u001b[0m \u001b[0;34m\u001b[0m\u001b[0m\n",
      "\u001b[0;32m//anaconda3/lib/python3.7/site-packages/pandas/core/frame.py\u001b[0m in \u001b[0;36m__getitem__\u001b[0;34m(self, key)\u001b[0m\n\u001b[1;32m   2925\u001b[0m             \u001b[0;32mif\u001b[0m \u001b[0mself\u001b[0m\u001b[0;34m.\u001b[0m\u001b[0mcolumns\u001b[0m\u001b[0;34m.\u001b[0m\u001b[0mnlevels\u001b[0m \u001b[0;34m>\u001b[0m \u001b[0;36m1\u001b[0m\u001b[0;34m:\u001b[0m\u001b[0;34m\u001b[0m\u001b[0;34m\u001b[0m\u001b[0m\n\u001b[1;32m   2926\u001b[0m                 \u001b[0;32mreturn\u001b[0m \u001b[0mself\u001b[0m\u001b[0;34m.\u001b[0m\u001b[0m_getitem_multilevel\u001b[0m\u001b[0;34m(\u001b[0m\u001b[0mkey\u001b[0m\u001b[0;34m)\u001b[0m\u001b[0;34m\u001b[0m\u001b[0;34m\u001b[0m\u001b[0m\n\u001b[0;32m-> 2927\u001b[0;31m             \u001b[0mindexer\u001b[0m \u001b[0;34m=\u001b[0m \u001b[0mself\u001b[0m\u001b[0;34m.\u001b[0m\u001b[0mcolumns\u001b[0m\u001b[0;34m.\u001b[0m\u001b[0mget_loc\u001b[0m\u001b[0;34m(\u001b[0m\u001b[0mkey\u001b[0m\u001b[0;34m)\u001b[0m\u001b[0;34m\u001b[0m\u001b[0;34m\u001b[0m\u001b[0m\n\u001b[0m\u001b[1;32m   2928\u001b[0m             \u001b[0;32mif\u001b[0m \u001b[0mis_integer\u001b[0m\u001b[0;34m(\u001b[0m\u001b[0mindexer\u001b[0m\u001b[0;34m)\u001b[0m\u001b[0;34m:\u001b[0m\u001b[0;34m\u001b[0m\u001b[0;34m\u001b[0m\u001b[0m\n\u001b[1;32m   2929\u001b[0m                 \u001b[0mindexer\u001b[0m \u001b[0;34m=\u001b[0m \u001b[0;34m[\u001b[0m\u001b[0mindexer\u001b[0m\u001b[0;34m]\u001b[0m\u001b[0;34m\u001b[0m\u001b[0;34m\u001b[0m\u001b[0m\n",
      "\u001b[0;32m//anaconda3/lib/python3.7/site-packages/pandas/core/indexes/base.py\u001b[0m in \u001b[0;36mget_loc\u001b[0;34m(self, key, method, tolerance)\u001b[0m\n\u001b[1;32m   2657\u001b[0m                 \u001b[0;32mreturn\u001b[0m \u001b[0mself\u001b[0m\u001b[0;34m.\u001b[0m\u001b[0m_engine\u001b[0m\u001b[0;34m.\u001b[0m\u001b[0mget_loc\u001b[0m\u001b[0;34m(\u001b[0m\u001b[0mkey\u001b[0m\u001b[0;34m)\u001b[0m\u001b[0;34m\u001b[0m\u001b[0;34m\u001b[0m\u001b[0m\n\u001b[1;32m   2658\u001b[0m             \u001b[0;32mexcept\u001b[0m \u001b[0mKeyError\u001b[0m\u001b[0;34m:\u001b[0m\u001b[0;34m\u001b[0m\u001b[0;34m\u001b[0m\u001b[0m\n\u001b[0;32m-> 2659\u001b[0;31m                 \u001b[0;32mreturn\u001b[0m \u001b[0mself\u001b[0m\u001b[0;34m.\u001b[0m\u001b[0m_engine\u001b[0m\u001b[0;34m.\u001b[0m\u001b[0mget_loc\u001b[0m\u001b[0;34m(\u001b[0m\u001b[0mself\u001b[0m\u001b[0;34m.\u001b[0m\u001b[0m_maybe_cast_indexer\u001b[0m\u001b[0;34m(\u001b[0m\u001b[0mkey\u001b[0m\u001b[0;34m)\u001b[0m\u001b[0;34m)\u001b[0m\u001b[0;34m\u001b[0m\u001b[0;34m\u001b[0m\u001b[0m\n\u001b[0m\u001b[1;32m   2660\u001b[0m         \u001b[0mindexer\u001b[0m \u001b[0;34m=\u001b[0m \u001b[0mself\u001b[0m\u001b[0;34m.\u001b[0m\u001b[0mget_indexer\u001b[0m\u001b[0;34m(\u001b[0m\u001b[0;34m[\u001b[0m\u001b[0mkey\u001b[0m\u001b[0;34m]\u001b[0m\u001b[0;34m,\u001b[0m \u001b[0mmethod\u001b[0m\u001b[0;34m=\u001b[0m\u001b[0mmethod\u001b[0m\u001b[0;34m,\u001b[0m \u001b[0mtolerance\u001b[0m\u001b[0;34m=\u001b[0m\u001b[0mtolerance\u001b[0m\u001b[0;34m)\u001b[0m\u001b[0;34m\u001b[0m\u001b[0;34m\u001b[0m\u001b[0m\n\u001b[1;32m   2661\u001b[0m         \u001b[0;32mif\u001b[0m \u001b[0mindexer\u001b[0m\u001b[0;34m.\u001b[0m\u001b[0mndim\u001b[0m \u001b[0;34m>\u001b[0m \u001b[0;36m1\u001b[0m \u001b[0;32mor\u001b[0m \u001b[0mindexer\u001b[0m\u001b[0;34m.\u001b[0m\u001b[0msize\u001b[0m \u001b[0;34m>\u001b[0m \u001b[0;36m1\u001b[0m\u001b[0;34m:\u001b[0m\u001b[0;34m\u001b[0m\u001b[0;34m\u001b[0m\u001b[0m\n",
      "\u001b[0;32mpandas/_libs/index.pyx\u001b[0m in \u001b[0;36mpandas._libs.index.IndexEngine.get_loc\u001b[0;34m()\u001b[0m\n",
      "\u001b[0;32mpandas/_libs/index.pyx\u001b[0m in \u001b[0;36mpandas._libs.index.IndexEngine.get_loc\u001b[0;34m()\u001b[0m\n",
      "\u001b[0;32mpandas/_libs/hashtable_class_helper.pxi\u001b[0m in \u001b[0;36mpandas._libs.hashtable.PyObjectHashTable.get_item\u001b[0;34m()\u001b[0m\n",
      "\u001b[0;32mpandas/_libs/hashtable_class_helper.pxi\u001b[0m in \u001b[0;36mpandas._libs.hashtable.PyObjectHashTable.get_item\u001b[0;34m()\u001b[0m\n",
      "\u001b[0;31mKeyError\u001b[0m: 'caption'"
     ]
    }
   ],
   "source": [
    "test_csv = pd.read_csv('test1.csv', index_col=0) # 讀取資料\n",
    "\n",
    "test_csv.head()\n",
    "\n",
    "# print(''.join([i for i in test_haidelao['caption'].values[1] if not i.isdigit()])\n",
    "\n",
    "test_haidelao = pd.DataFrame(test_csv['caption'].astype(str))\n",
    "test_haidelao['rating'] = test_csv['rating'].astype(str)\n",
    "\n",
    "test_haidelao.loc[test_haidelao.rating=='4' , 'rating'] = 1\n",
    "test_haidelao.loc[test_haidelao.rating=='5' , 'rating'] = 1\n",
    "test_haidelao.loc[test_haidelao.rating!=1, 'rating'] = 0\n",
    "\n",
    "test_haidelao = test_haidelao[test_haidelao['caption'] != 'nan']\n",
    "\n",
    "test_haidelao.reset_index(drop=True, inplace=True)\n",
    "test_haidelao"
   ]
  },
  {
   "cell_type": "code",
   "execution_count": 436,
   "metadata": {
    "scrolled": true
   },
   "outputs": [],
   "source": [
    "# 分詞\n",
    "test_haidelao['review_tokenized'] = test_haidelao.loc[:, 'caption'].apply(jieba_tokenizer)\n",
    "\n",
    "# 利用建好的字典，將每個review裡頭包含的詞彙轉換成數字 \n",
    "x_test_haidelao = tokenizer.texts_to_sequences(test_haidelao.review_tokenized)\n",
    "\n",
    "# 長度不足25的在前面補零\n",
    "x_test_haidelao = keras.preprocessing.sequence.pad_sequences(x_test_haidelao, maxlen=MAX_SEQUENCE_LENGTH)\n",
    "\n",
    "# predict!\n",
    "predictions = model.predict([x_test_haidelao])"
   ]
  },
  {
   "cell_type": "code",
   "execution_count": 437,
   "metadata": {},
   "outputs": [
    {
     "data": {
      "text/html": [
       "<div>\n",
       "<style scoped>\n",
       "    .dataframe tbody tr th:only-of-type {\n",
       "        vertical-align: middle;\n",
       "    }\n",
       "\n",
       "    .dataframe tbody tr th {\n",
       "        vertical-align: top;\n",
       "    }\n",
       "\n",
       "    .dataframe thead th {\n",
       "        text-align: right;\n",
       "    }\n",
       "</style>\n",
       "<table border=\"1\" class=\"dataframe\">\n",
       "  <thead>\n",
       "    <tr style=\"text-align: right;\">\n",
       "      <th></th>\n",
       "      <th>caption</th>\n",
       "      <th>label</th>\n",
       "      <th>rating</th>\n",
       "      <th>correct</th>\n",
       "    </tr>\n",
       "  </thead>\n",
       "  <tbody>\n",
       "    <tr>\n",
       "      <th>0</th>\n",
       "      <td>平日2人去不用候位太久覺得很棒，雖然用餐不限時間但是也不會讓客人等太久，很有效率的店，安排的...</td>\n",
       "      <td>1</td>\n",
       "      <td>1</td>\n",
       "      <td>True</td>\n",
       "    </tr>\n",
       "    <tr>\n",
       "      <th>1</th>\n",
       "      <td>員工服務招待的很棒！覺得除了食物也值回票價！ 服務我們這桌的茈珞、嘉祥、超宇跟奕維讓我們印象...</td>\n",
       "      <td>1</td>\n",
       "      <td>1</td>\n",
       "      <td>True</td>\n",
       "    </tr>\n",
       "    <tr>\n",
       "      <th>2</th>\n",
       "      <td>服務很好，東西好吃，又有美甲跟擦鞋服務。</td>\n",
       "      <td>1</td>\n",
       "      <td>1</td>\n",
       "      <td>True</td>\n",
       "    </tr>\n",
       "    <tr>\n",
       "      <th>3</th>\n",
       "      <td>桌邊服務品質好</td>\n",
       "      <td>1</td>\n",
       "      <td>1</td>\n",
       "      <td>True</td>\n",
       "    </tr>\n",
       "    <tr>\n",
       "      <th>4</th>\n",
       "      <td>海底撈服務沒什麼好挑的 湯底推豬肚雞 真材實料CP值很高</td>\n",
       "      <td>1</td>\n",
       "      <td>1</td>\n",
       "      <td>True</td>\n",
       "    </tr>\n",
       "    <tr>\n",
       "      <th>5</th>\n",
       "      <td>桌邊服務很好 但是等待時間蠻久的，如果沒有訂位還是要有心理準備</td>\n",
       "      <td>0</td>\n",
       "      <td>1</td>\n",
       "      <td>False</td>\n",
       "    </tr>\n",
       "    <tr>\n",
       "      <th>6</th>\n",
       "      <td>店員（陳冠宇） 服務態度是我吃海底撈這麼多次以來第一個讓我想寫評論的人，服務態度真的真的很好...</td>\n",
       "      <td>0</td>\n",
       "      <td>1</td>\n",
       "      <td>False</td>\n",
       "    </tr>\n",
       "    <tr>\n",
       "      <th>7</th>\n",
       "      <td>服務人員～陳冠宇服務親切、貼心、有效率👍</td>\n",
       "      <td>1</td>\n",
       "      <td>1</td>\n",
       "      <td>True</td>\n",
       "    </tr>\n",
       "    <tr>\n",
       "      <th>8</th>\n",
       "      <td>服務優質</td>\n",
       "      <td>0</td>\n",
       "      <td>1</td>\n",
       "      <td>False</td>\n",
       "    </tr>\n",
       "    <tr>\n",
       "      <th>9</th>\n",
       "      <td>乾淨，服務好，小孩有地方玩，媽媽可以好好吃飯。</td>\n",
       "      <td>1</td>\n",
       "      <td>1</td>\n",
       "      <td>True</td>\n",
       "    </tr>\n",
       "    <tr>\n",
       "      <th>10</th>\n",
       "      <td>今天去的是新義區的分店，海底撈進駐台灣在口味也做了調整，相較於大陸算是清淡些，提供的副食少...</td>\n",
       "      <td>1</td>\n",
       "      <td>1</td>\n",
       "      <td>True</td>\n",
       "    </tr>\n",
       "    <tr>\n",
       "      <th>11</th>\n",
       "      <td>服務非常好  麻辣鍋湯底很讚</td>\n",
       "      <td>1</td>\n",
       "      <td>1</td>\n",
       "      <td>True</td>\n",
       "    </tr>\n",
       "    <tr>\n",
       "      <th>12</th>\n",
       "      <td>服務親切，店員都好帥</td>\n",
       "      <td>1</td>\n",
       "      <td>1</td>\n",
       "      <td>True</td>\n",
       "    </tr>\n",
       "    <tr>\n",
       "      <th>13</th>\n",
       "      <td>服務滿分，餐點偏貴，嚐鮮一次還算ok</td>\n",
       "      <td>0</td>\n",
       "      <td>1</td>\n",
       "      <td>False</td>\n",
       "    </tr>\n",
       "    <tr>\n",
       "      <th>14</th>\n",
       "      <td>服務超好的👍隨叫隨到 真的是吃服務的但不收服務費 還有麻辣鍋超級麻辣的 是屬於四川的小辣 ...</td>\n",
       "      <td>0</td>\n",
       "      <td>1</td>\n",
       "      <td>False</td>\n",
       "    </tr>\n",
       "    <tr>\n",
       "      <th>15</th>\n",
       "      <td>信義店于娣的服務很棒！食材新鮮，口味豐富，燈光，音樂，氛圍，表演，整潔舒適的用餐環境，細膩...</td>\n",
       "      <td>1</td>\n",
       "      <td>1</td>\n",
       "      <td>True</td>\n",
       "    </tr>\n",
       "    <tr>\n",
       "      <th>16</th>\n",
       "      <td>N訪海底撈 吃來吃去還是信義店最好吃🏆 海底撈暖胃茈珞暖心 茈珞真的好QQ又貼心又可愛 豐...</td>\n",
       "      <td>1</td>\n",
       "      <td>1</td>\n",
       "      <td>True</td>\n",
       "    </tr>\n",
       "    <tr>\n",
       "      <th>17</th>\n",
       "      <td>服務不錯，還有機器人服務很好玩</td>\n",
       "      <td>1</td>\n",
       "      <td>1</td>\n",
       "      <td>True</td>\n",
       "    </tr>\n",
       "    <tr>\n",
       "      <th>18</th>\n",
       "      <td>2020.12.31年底，來到海底撈信義店用餐，從大堂經理超哥😊，到服務員林佑存😃真的非常...</td>\n",
       "      <td>1</td>\n",
       "      <td>1</td>\n",
       "      <td>True</td>\n",
       "    </tr>\n",
       "    <tr>\n",
       "      <th>19</th>\n",
       "      <td>服務好，但太貴了，兩個人總共2400，完全吃不飽，不會二訪了⋯⋯</td>\n",
       "      <td>0</td>\n",
       "      <td>0</td>\n",
       "      <td>True</td>\n",
       "    </tr>\n",
       "    <tr>\n",
       "      <th>20</th>\n",
       "      <td>環境好</td>\n",
       "      <td>0</td>\n",
       "      <td>1</td>\n",
       "      <td>False</td>\n",
       "    </tr>\n",
       "    <tr>\n",
       "      <th>21</th>\n",
       "      <td>服務人員非常熱心、親切！店內環境整潔、舒適！豬肚雞湯、麻辣湯超好喝！</td>\n",
       "      <td>0</td>\n",
       "      <td>1</td>\n",
       "      <td>False</td>\n",
       "    </tr>\n",
       "    <tr>\n",
       "      <th>22</th>\n",
       "      <td>點了麻辣和白湯 兩個都很喜歡 牛小排單價稍高但很好吃 推薦蝦滑 青菜也都新鮮好吃 服務也很...</td>\n",
       "      <td>1</td>\n",
       "      <td>1</td>\n",
       "      <td>True</td>\n",
       "    </tr>\n",
       "    <tr>\n",
       "      <th>23</th>\n",
       "      <td>我很喜歡所有服務人員的服務，從一進門的招呼服務生（感覺出來他感冒喉嚨有些沙啞），到後面接待...</td>\n",
       "      <td>0</td>\n",
       "      <td>1</td>\n",
       "      <td>False</td>\n",
       "    </tr>\n",
       "    <tr>\n",
       "      <th>24</th>\n",
       "      <td>店長事後得知消息立即電聯處理，表示可能是新的服務生訓練不足，但後續補救態度良好。暫且由一星...</td>\n",
       "      <td>0</td>\n",
       "      <td>1</td>\n",
       "      <td>False</td>\n",
       "    </tr>\n",
       "    <tr>\n",
       "      <th>25</th>\n",
       "      <td>變臉很特別!! 好喜歡蝦滑和炸魚皮~~ 銀絲卷炸過沾煉乳太犯規了！四個人吃下來一人350覺...</td>\n",
       "      <td>1</td>\n",
       "      <td>1</td>\n",
       "      <td>True</td>\n",
       "    </tr>\n",
       "    <tr>\n",
       "      <th>26</th>\n",
       "      <td>對輪椅使用者服務超好</td>\n",
       "      <td>1</td>\n",
       "      <td>1</td>\n",
       "      <td>True</td>\n",
       "    </tr>\n",
       "    <tr>\n",
       "      <th>27</th>\n",
       "      <td>這家每到假日我只要來信義區逛街,都會吃他們家~ 因為空間寬敞,食材的準備上也十分新鮮</td>\n",
       "      <td>0</td>\n",
       "      <td>1</td>\n",
       "      <td>False</td>\n",
       "    </tr>\n",
       "    <tr>\n",
       "      <th>28</th>\n",
       "      <td>不吃辣要注意，即時是小辣還是要小心，不然胃會傷，可以用清水稍微涮一下。各項餐點都還不錯，服...</td>\n",
       "      <td>0</td>\n",
       "      <td>1</td>\n",
       "      <td>False</td>\n",
       "    </tr>\n",
       "    <tr>\n",
       "      <th>29</th>\n",
       "      <td>Great service, great show, great performance!</td>\n",
       "      <td>0</td>\n",
       "      <td>1</td>\n",
       "      <td>False</td>\n",
       "    </tr>\n",
       "    <tr>\n",
       "      <th>30</th>\n",
       "      <td>服務超好，整個過程很多花樣，味道也很不錯</td>\n",
       "      <td>1</td>\n",
       "      <td>1</td>\n",
       "      <td>True</td>\n",
       "    </tr>\n",
       "    <tr>\n",
       "      <th>31</th>\n",
       "      <td>服務超級好，尤其是美甲師怡如，真的很推薦給她服務 超推薦的</td>\n",
       "      <td>1</td>\n",
       "      <td>1</td>\n",
       "      <td>True</td>\n",
       "    </tr>\n",
       "    <tr>\n",
       "      <th>32</th>\n",
       "      <td>服務態度超好！</td>\n",
       "      <td>1</td>\n",
       "      <td>1</td>\n",
       "      <td>True</td>\n",
       "    </tr>\n",
       "    <tr>\n",
       "      <th>33</th>\n",
       "      <td>服務品質很好的火鍋店。最好先預約再前往，避免久候。</td>\n",
       "      <td>0</td>\n",
       "      <td>1</td>\n",
       "      <td>False</td>\n",
       "    </tr>\n",
       "  </tbody>\n",
       "</table>\n",
       "</div>"
      ],
      "text/plain": [
       "                                              caption  label rating  correct\n",
       "0   平日2人去不用候位太久覺得很棒，雖然用餐不限時間但是也不會讓客人等太久，很有效率的店，安排的...      1      1     True\n",
       "1   員工服務招待的很棒！覺得除了食物也值回票價！ 服務我們這桌的茈珞、嘉祥、超宇跟奕維讓我們印象...      1      1     True\n",
       "2                                服務很好，東西好吃，又有美甲跟擦鞋服務。      1      1     True\n",
       "3                                             桌邊服務品質好      1      1     True\n",
       "4                        海底撈服務沒什麼好挑的 湯底推豬肚雞 真材實料CP值很高      1      1     True\n",
       "5                     桌邊服務很好 但是等待時間蠻久的，如果沒有訂位還是要有心理準備      0      1    False\n",
       "6   店員（陳冠宇） 服務態度是我吃海底撈這麼多次以來第一個讓我想寫評論的人，服務態度真的真的很好...      0      1    False\n",
       "7                                服務人員～陳冠宇服務親切、貼心、有效率👍      1      1     True\n",
       "8                                                服務優質      0      1    False\n",
       "9                             乾淨，服務好，小孩有地方玩，媽媽可以好好吃飯。      1      1     True\n",
       "10   今天去的是新義區的分店，海底撈進駐台灣在口味也做了調整，相較於大陸算是清淡些，提供的副食少...      1      1     True\n",
       "11                                     服務非常好  麻辣鍋湯底很讚      1      1     True\n",
       "12                                         服務親切，店員都好帥      1      1     True\n",
       "13                                 服務滿分，餐點偏貴，嚐鮮一次還算ok      0      1    False\n",
       "14   服務超好的👍隨叫隨到 真的是吃服務的但不收服務費 還有麻辣鍋超級麻辣的 是屬於四川的小辣 ...      0      1    False\n",
       "15   信義店于娣的服務很棒！食材新鮮，口味豐富，燈光，音樂，氛圍，表演，整潔舒適的用餐環境，細膩...      1      1     True\n",
       "16   N訪海底撈 吃來吃去還是信義店最好吃🏆 海底撈暖胃茈珞暖心 茈珞真的好QQ又貼心又可愛 豐...      1      1     True\n",
       "17                                    服務不錯，還有機器人服務很好玩      1      1     True\n",
       "18   2020.12.31年底，來到海底撈信義店用餐，從大堂經理超哥😊，到服務員林佑存😃真的非常...      1      1     True\n",
       "19                   服務好，但太貴了，兩個人總共2400，完全吃不飽，不會二訪了⋯⋯      0      0     True\n",
       "20                                                環境好      0      1    False\n",
       "21                 服務人員非常熱心、親切！店內環境整潔、舒適！豬肚雞湯、麻辣湯超好喝！      0      1    False\n",
       "22   點了麻辣和白湯 兩個都很喜歡 牛小排單價稍高但很好吃 推薦蝦滑 青菜也都新鮮好吃 服務也很...      1      1     True\n",
       "23   我很喜歡所有服務人員的服務，從一進門的招呼服務生（感覺出來他感冒喉嚨有些沙啞），到後面接待...      0      1    False\n",
       "24   店長事後得知消息立即電聯處理，表示可能是新的服務生訓練不足，但後續補救態度良好。暫且由一星...      0      1    False\n",
       "25   變臉很特別!! 好喜歡蝦滑和炸魚皮~~ 銀絲卷炸過沾煉乳太犯規了！四個人吃下來一人350覺...      1      1     True\n",
       "26                                         對輪椅使用者服務超好      1      1     True\n",
       "27         這家每到假日我只要來信義區逛街,都會吃他們家~ 因為空間寬敞,食材的準備上也十分新鮮      0      1    False\n",
       "28   不吃辣要注意，即時是小辣還是要小心，不然胃會傷，可以用清水稍微涮一下。各項餐點都還不錯，服...      0      1    False\n",
       "29      Great service, great show, great performance!      0      1    False\n",
       "30                               服務超好，整個過程很多花樣，味道也很不錯      1      1     True\n",
       "31                      服務超級好，尤其是美甲師怡如，真的很推薦給她服務 超推薦的      1      1     True\n",
       "32                                            服務態度超好！      1      1     True\n",
       "33                          服務品質很好的火鍋店。最好先預約再前往，避免久候。      0      1    False"
      ]
     },
     "execution_count": 437,
     "metadata": {},
     "output_type": "execute_result"
    }
   ],
   "source": [
    "# test_df = DataFrame ([label for label in np.argmax(np.array(y_test), axis=1)],columns=['label'])\n",
    "test_haidelao['label'] = [label for label in np.argmax(predictions, axis=1)]\n",
    "# test_df['Category'] = [idx for idx in np.argmax(predictions, axis=1)]\n",
    "test_haidelao['correct'] = test_haidelao['label'] == test_haidelao['rating']\n",
    "\n",
    "test_haidelao[['caption', 'label', 'rating', 'correct']]"
   ]
  },
  {
   "cell_type": "code",
   "execution_count": 439,
   "metadata": {},
   "outputs": [
    {
     "name": "stdout",
     "output_type": "stream",
     "text": [
      "Crawled Accuracy:  0.6176470588235294\n"
     ]
    }
   ],
   "source": [
    "print('Crawled Accuracy: ', (test_haidelao[test_haidelao.correct == True].count()['correct'])/len(test_haidelao.index))"
   ]
  },
  {
   "cell_type": "code",
   "execution_count": null,
   "metadata": {},
   "outputs": [],
   "source": []
  },
  {
   "cell_type": "code",
   "execution_count": null,
   "metadata": {},
   "outputs": [],
   "source": []
  },
  {
   "cell_type": "markdown",
   "metadata": {},
   "source": [
    "## test data from original dataset"
   ]
  },
  {
   "cell_type": "code",
   "execution_count": 422,
   "metadata": {},
   "outputs": [
    {
     "name": "stdout",
     "output_type": "stream",
     "text": [
      "real       266\n",
      "predict    266\n",
      "correct    937\n",
      "dtype: int64\n"
     ]
    },
    {
     "data": {
      "text/html": [
       "<div>\n",
       "<style scoped>\n",
       "    .dataframe tbody tr th:only-of-type {\n",
       "        vertical-align: middle;\n",
       "    }\n",
       "\n",
       "    .dataframe tbody tr th {\n",
       "        vertical-align: top;\n",
       "    }\n",
       "\n",
       "    .dataframe thead th {\n",
       "        text-align: right;\n",
       "    }\n",
       "</style>\n",
       "<table border=\"1\" class=\"dataframe\">\n",
       "  <thead>\n",
       "    <tr style=\"text-align: right;\">\n",
       "      <th></th>\n",
       "      <th>real</th>\n",
       "      <th>predict</th>\n",
       "      <th>correct</th>\n",
       "    </tr>\n",
       "  </thead>\n",
       "  <tbody>\n",
       "    <tr>\n",
       "      <th>0</th>\n",
       "      <td>0</td>\n",
       "      <td>0</td>\n",
       "      <td>True</td>\n",
       "    </tr>\n",
       "    <tr>\n",
       "      <th>1</th>\n",
       "      <td>1</td>\n",
       "      <td>1</td>\n",
       "      <td>True</td>\n",
       "    </tr>\n",
       "    <tr>\n",
       "      <th>2</th>\n",
       "      <td>0</td>\n",
       "      <td>0</td>\n",
       "      <td>True</td>\n",
       "    </tr>\n",
       "    <tr>\n",
       "      <th>3</th>\n",
       "      <td>0</td>\n",
       "      <td>0</td>\n",
       "      <td>True</td>\n",
       "    </tr>\n",
       "    <tr>\n",
       "      <th>4</th>\n",
       "      <td>1</td>\n",
       "      <td>1</td>\n",
       "      <td>True</td>\n",
       "    </tr>\n",
       "    <tr>\n",
       "      <th>...</th>\n",
       "      <td>...</td>\n",
       "      <td>...</td>\n",
       "      <td>...</td>\n",
       "    </tr>\n",
       "    <tr>\n",
       "      <th>1074</th>\n",
       "      <td>0</td>\n",
       "      <td>0</td>\n",
       "      <td>True</td>\n",
       "    </tr>\n",
       "    <tr>\n",
       "      <th>1075</th>\n",
       "      <td>0</td>\n",
       "      <td>0</td>\n",
       "      <td>True</td>\n",
       "    </tr>\n",
       "    <tr>\n",
       "      <th>1076</th>\n",
       "      <td>0</td>\n",
       "      <td>0</td>\n",
       "      <td>True</td>\n",
       "    </tr>\n",
       "    <tr>\n",
       "      <th>1077</th>\n",
       "      <td>0</td>\n",
       "      <td>0</td>\n",
       "      <td>True</td>\n",
       "    </tr>\n",
       "    <tr>\n",
       "      <th>1078</th>\n",
       "      <td>1</td>\n",
       "      <td>1</td>\n",
       "      <td>True</td>\n",
       "    </tr>\n",
       "  </tbody>\n",
       "</table>\n",
       "<p>1079 rows × 3 columns</p>\n",
       "</div>"
      ],
      "text/plain": [
       "      real  predict  correct\n",
       "0        0        0     True\n",
       "1        1        1     True\n",
       "2        0        0     True\n",
       "3        0        0     True\n",
       "4        1        1     True\n",
       "...    ...      ...      ...\n",
       "1074     0        0     True\n",
       "1075     0        0     True\n",
       "1076     0        0     True\n",
       "1077     0        0     True\n",
       "1078     1        1     True\n",
       "\n",
       "[1079 rows x 3 columns]"
      ]
     },
     "execution_count": 422,
     "metadata": {},
     "output_type": "execute_result"
    }
   ],
   "source": [
    "# predict!\n",
    "predictions = model.predict([x_test])\n",
    "\n",
    "test_df = DataFrame ([label for label in np.argmax(np.array(y_test), axis=1)],columns=['real'])\n",
    "test_df['predict'] = [label for label in np.argmax(predictions, axis=1)]\n",
    "test_df['correct'] = test_df['real'] == test_df['predict']\n",
    "\n",
    "print(test_df[test_df.correct == True].count()['correct'])\n",
    "test_df"
   ]
  },
  {
   "cell_type": "code",
   "execution_count": 426,
   "metadata": {},
   "outputs": [
    {
     "name": "stdout",
     "output_type": "stream",
     "text": [
      "Accuracy:  0.8683966635773864\n"
     ]
    }
   ],
   "source": [
    "print('Accuracy: ', (test_df[test_df.correct == True].count()['correct'])/len(test_df.index))"
   ]
  },
  {
   "cell_type": "code",
   "execution_count": 87,
   "metadata": {},
   "outputs": [
    {
     "data": {
      "text/html": [
       "<div>\n",
       "<style scoped>\n",
       "    .dataframe tbody tr th:only-of-type {\n",
       "        vertical-align: middle;\n",
       "    }\n",
       "\n",
       "    .dataframe tbody tr th {\n",
       "        vertical-align: top;\n",
       "    }\n",
       "\n",
       "    .dataframe thead th {\n",
       "        text-align: right;\n",
       "    }\n",
       "</style>\n",
       "<table border=\"1\" class=\"dataframe\">\n",
       "  <thead>\n",
       "    <tr style=\"text-align: right;\">\n",
       "      <th></th>\n",
       "      <th>caption</th>\n",
       "      <th>rating</th>\n",
       "    </tr>\n",
       "  </thead>\n",
       "  <tbody>\n",
       "    <tr>\n",
       "      <th>0</th>\n",
       "      <td>平日2人去不用候位太久覺得很棒，雖然用餐不限時間但是也不會讓客人等太久，很有效率的店，安排的...</td>\n",
       "      <td>1</td>\n",
       "    </tr>\n",
       "    <tr>\n",
       "      <th>1</th>\n",
       "      <td>員工服務招待的很棒！覺得除了食物也值回票價！ 服務我們這桌的茈珞、嘉祥、超宇跟奕維讓我們印象...</td>\n",
       "      <td>1</td>\n",
       "    </tr>\n",
       "    <tr>\n",
       "      <th>2</th>\n",
       "      <td>服務很好，東西好吃，又有美甲跟擦鞋服務。</td>\n",
       "      <td>1</td>\n",
       "    </tr>\n",
       "    <tr>\n",
       "      <th>3</th>\n",
       "      <td>桌邊服務品質好</td>\n",
       "      <td>1</td>\n",
       "    </tr>\n",
       "    <tr>\n",
       "      <th>4</th>\n",
       "      <td>海底撈服務沒什麼好挑的 湯底推豬肚雞 真材實料CP值很高</td>\n",
       "      <td>1</td>\n",
       "    </tr>\n",
       "    <tr>\n",
       "      <th>5</th>\n",
       "      <td>桌邊服務很好 但是等待時間蠻久的，如果沒有訂位還是要有心理準備</td>\n",
       "      <td>1</td>\n",
       "    </tr>\n",
       "    <tr>\n",
       "      <th>6</th>\n",
       "      <td>店員（陳冠宇） 服務態度是我吃海底撈這麼多次以來第一個讓我想寫評論的人，服務態度真的真的很好...</td>\n",
       "      <td>1</td>\n",
       "    </tr>\n",
       "    <tr>\n",
       "      <th>7</th>\n",
       "      <td>服務人員～陳冠宇服務親切、貼心、有效率👍</td>\n",
       "      <td>1</td>\n",
       "    </tr>\n",
       "    <tr>\n",
       "      <th>8</th>\n",
       "      <td>服務優質</td>\n",
       "      <td>1</td>\n",
       "    </tr>\n",
       "    <tr>\n",
       "      <th>9</th>\n",
       "      <td>乾淨，服務好，小孩有地方玩，媽媽可以好好吃飯。</td>\n",
       "      <td>1</td>\n",
       "    </tr>\n",
       "    <tr>\n",
       "      <th>10</th>\n",
       "      <td>今天去的是新義區的分店，海底撈進駐台灣在口味也做了調整，相較於大陸算是清淡些，提供的副食少...</td>\n",
       "      <td>1</td>\n",
       "    </tr>\n",
       "    <tr>\n",
       "      <th>11</th>\n",
       "      <td>服務非常好  麻辣鍋湯底很讚</td>\n",
       "      <td>1</td>\n",
       "    </tr>\n",
       "    <tr>\n",
       "      <th>12</th>\n",
       "      <td>服務親切，店員都好帥</td>\n",
       "      <td>1</td>\n",
       "    </tr>\n",
       "    <tr>\n",
       "      <th>13</th>\n",
       "      <td>服務滿分，餐點偏貴，嚐鮮一次還算ok</td>\n",
       "      <td>1</td>\n",
       "    </tr>\n",
       "    <tr>\n",
       "      <th>14</th>\n",
       "      <td>服務超好的👍隨叫隨到 真的是吃服務的但不收服務費 還有麻辣鍋超級麻辣的 是屬於四川的小辣 ...</td>\n",
       "      <td>1</td>\n",
       "    </tr>\n",
       "    <tr>\n",
       "      <th>15</th>\n",
       "      <td>信義店于娣的服務很棒！食材新鮮，口味豐富，燈光，音樂，氛圍，表演，整潔舒適的用餐環境，細膩...</td>\n",
       "      <td>1</td>\n",
       "    </tr>\n",
       "    <tr>\n",
       "      <th>16</th>\n",
       "      <td>N訪海底撈 吃來吃去還是信義店最好吃🏆 海底撈暖胃茈珞暖心 茈珞真的好QQ又貼心又可愛 豐...</td>\n",
       "      <td>1</td>\n",
       "    </tr>\n",
       "    <tr>\n",
       "      <th>17</th>\n",
       "      <td>服務不錯，還有機器人服務很好玩</td>\n",
       "      <td>1</td>\n",
       "    </tr>\n",
       "    <tr>\n",
       "      <th>18</th>\n",
       "      <td>2020.12.31年底，來到海底撈信義店用餐，從大堂經理超哥😊，到服務員林佑存😃真的非常...</td>\n",
       "      <td>1</td>\n",
       "    </tr>\n",
       "    <tr>\n",
       "      <th>19</th>\n",
       "      <td>服務好，但太貴了，兩個人總共2400，完全吃不飽，不會二訪了⋯⋯</td>\n",
       "      <td>0</td>\n",
       "    </tr>\n",
       "    <tr>\n",
       "      <th>20</th>\n",
       "      <td>環境好</td>\n",
       "      <td>1</td>\n",
       "    </tr>\n",
       "    <tr>\n",
       "      <th>21</th>\n",
       "      <td>服務人員非常熱心、親切！店內環境整潔、舒適！豬肚雞湯、麻辣湯超好喝！</td>\n",
       "      <td>1</td>\n",
       "    </tr>\n",
       "    <tr>\n",
       "      <th>22</th>\n",
       "      <td>點了麻辣和白湯 兩個都很喜歡 牛小排單價稍高但很好吃 推薦蝦滑 青菜也都新鮮好吃 服務也很...</td>\n",
       "      <td>1</td>\n",
       "    </tr>\n",
       "    <tr>\n",
       "      <th>23</th>\n",
       "      <td>我很喜歡所有服務人員的服務，從一進門的招呼服務生（感覺出來他感冒喉嚨有些沙啞），到後面接待...</td>\n",
       "      <td>1</td>\n",
       "    </tr>\n",
       "    <tr>\n",
       "      <th>24</th>\n",
       "      <td>店長事後得知消息立即電聯處理，表示可能是新的服務生訓練不足，但後續補救態度良好。暫且由一星...</td>\n",
       "      <td>1</td>\n",
       "    </tr>\n",
       "    <tr>\n",
       "      <th>25</th>\n",
       "      <td>變臉很特別!! 好喜歡蝦滑和炸魚皮~~ 銀絲卷炸過沾煉乳太犯規了！四個人吃下來一人350覺...</td>\n",
       "      <td>1</td>\n",
       "    </tr>\n",
       "    <tr>\n",
       "      <th>26</th>\n",
       "      <td>對輪椅使用者服務超好</td>\n",
       "      <td>1</td>\n",
       "    </tr>\n",
       "    <tr>\n",
       "      <th>27</th>\n",
       "      <td>這家每到假日我只要來信義區逛街,都會吃他們家~ 因為空間寬敞,食材的準備上也十分新鮮</td>\n",
       "      <td>1</td>\n",
       "    </tr>\n",
       "    <tr>\n",
       "      <th>28</th>\n",
       "      <td>不吃辣要注意，即時是小辣還是要小心，不然胃會傷，可以用清水稍微涮一下。各項餐點都還不錯，服...</td>\n",
       "      <td>1</td>\n",
       "    </tr>\n",
       "    <tr>\n",
       "      <th>29</th>\n",
       "      <td>Great service, great show, great performance!</td>\n",
       "      <td>1</td>\n",
       "    </tr>\n",
       "    <tr>\n",
       "      <th>...</th>\n",
       "      <td>...</td>\n",
       "      <td>...</td>\n",
       "    </tr>\n",
       "    <tr>\n",
       "      <th>298</th>\n",
       "      <td>服務很棒！ 真的超棒</td>\n",
       "      <td>1</td>\n",
       "    </tr>\n",
       "    <tr>\n",
       "      <th>299</th>\n",
       "      <td>來過四、五次，服務真的很好，食材新鮮多元。 我最常點的湯底是牛油麻辣鍋，跟一般麻辣鍋比起來...</td>\n",
       "      <td>1</td>\n",
       "    </tr>\n",
       "    <tr>\n",
       "      <th>300</th>\n",
       "      <td>服務態度超好，還有變臉秀可以看，東西有點貴其實算普通</td>\n",
       "      <td>1</td>\n",
       "    </tr>\n",
       "    <tr>\n",
       "      <th>301</th>\n",
       "      <td>豬肚湯必點 服務到位 但暢飲的飲料續杯的積極度可以再提升</td>\n",
       "      <td>1</td>\n",
       "    </tr>\n",
       "    <tr>\n",
       "      <th>302</th>\n",
       "      <td>第一次吃是去慶城街 這次是信義店 服務不錯，又不限時間</td>\n",
       "      <td>1</td>\n",
       "    </tr>\n",
       "    <tr>\n",
       "      <th>303</th>\n",
       "      <td>場地時尚寬敞，服務超級親切，在等待時間有點心餅乾等，另有一新時代的按摩椅可放輕鬆一下，還可...</td>\n",
       "      <td>1</td>\n",
       "    </tr>\n",
       "    <tr>\n",
       "      <th>304</th>\n",
       "      <td>好吃的鴛鴦麻辣鍋，最近因為疫情的關係，人潮變得比較少，但比起其他餐廳還算是可以的，餐廳本棟...</td>\n",
       "      <td>1</td>\n",
       "    </tr>\n",
       "    <tr>\n",
       "      <th>305</th>\n",
       "      <td>妗羚滿滿的熱情，親切的服務，讓初次到訪的來賓，如沐春風，對海底撈食物品質，明亮空間與歡樂氛...</td>\n",
       "      <td>1</td>\n",
       "    </tr>\n",
       "    <tr>\n",
       "      <th>306</th>\n",
       "      <td>服務真的超級好！東西也蠻特別的,真的很值得！</td>\n",
       "      <td>1</td>\n",
       "    </tr>\n",
       "    <tr>\n",
       "      <th>307</th>\n",
       "      <td>海底撈自製撈派豆花的豆香味濃又軟嫩，滑順口感入口即化。撈派蝦滑，店員會來個桌邊服務幫忙下鍋...</td>\n",
       "      <td>0</td>\n",
       "    </tr>\n",
       "    <tr>\n",
       "      <th>308</th>\n",
       "      <td>第一次來吃信義店 服務員是家熏 非常貼心 上菜就幫我們擺盤擺好 直接就可以拍照 來信義店真...</td>\n",
       "      <td>1</td>\n",
       "    </tr>\n",
       "    <tr>\n",
       "      <th>309</th>\n",
       "      <td>家熏真的很棒很貼心❤️很喜歡 以後希望能都給他服務</td>\n",
       "      <td>1</td>\n",
       "    </tr>\n",
       "    <tr>\n",
       "      <th>310</th>\n",
       "      <td>My favorite hotpot place!</td>\n",
       "      <td>1</td>\n",
       "    </tr>\n",
       "    <tr>\n",
       "      <th>311</th>\n",
       "      <td>服務很好點餐方便但食材一般😐川劇變臉第一次在現場看蠻新鮮的🤭</td>\n",
       "      <td>0</td>\n",
       "    </tr>\n",
       "    <tr>\n",
       "      <th>312</th>\n",
       "      <td>于寧服務很棒～👍🏻👍🏻👍🏻</td>\n",
       "      <td>1</td>\n",
       "    </tr>\n",
       "    <tr>\n",
       "      <th>313</th>\n",
       "      <td>造訪很多次。揪感心</td>\n",
       "      <td>1</td>\n",
       "    </tr>\n",
       "    <tr>\n",
       "      <th>314</th>\n",
       "      <td>食材不錯 醬料美味 服務滿意 表演有素</td>\n",
       "      <td>1</td>\n",
       "    </tr>\n",
       "    <tr>\n",
       "      <th>315</th>\n",
       "      <td>服務很好，湯頭也不錯，服務生都身懷絕技且熱忱，真的超棒。</td>\n",
       "      <td>1</td>\n",
       "    </tr>\n",
       "    <tr>\n",
       "      <th>316</th>\n",
       "      <td>服務人員相當熱情</td>\n",
       "      <td>1</td>\n",
       "    </tr>\n",
       "    <tr>\n",
       "      <th>317</th>\n",
       "      <td>變臉👍🏻服務👍🏻</td>\n",
       "      <td>1</td>\n",
       "    </tr>\n",
       "    <tr>\n",
       "      <th>318</th>\n",
       "      <td>去過慶城店再來這家 不會想再來了 一個口音不是很像台灣人的服務生態度有待加強 點十八天 送...</td>\n",
       "      <td>0</td>\n",
       "    </tr>\n",
       "    <tr>\n",
       "      <th>319</th>\n",
       "      <td>湯頭及食材都蠻用心的，服務生態度也是有特別訓練過。</td>\n",
       "      <td>1</td>\n",
       "    </tr>\n",
       "    <tr>\n",
       "      <th>320</th>\n",
       "      <td>三鮮湯必點、非常好喝。東西都還可以 以服務取勝的火鍋店。讚！</td>\n",
       "      <td>1</td>\n",
       "    </tr>\n",
       "    <tr>\n",
       "      <th>321</th>\n",
       "      <td>平均一個人500-600。</td>\n",
       "      <td>1</td>\n",
       "    </tr>\n",
       "    <tr>\n",
       "      <th>322</th>\n",
       "      <td>謝謝海底撈 曾靜慈 服務生🥰</td>\n",
       "      <td>1</td>\n",
       "    </tr>\n",
       "    <tr>\n",
       "      <th>323</th>\n",
       "      <td>服務好</td>\n",
       "      <td>1</td>\n",
       "    </tr>\n",
       "    <tr>\n",
       "      <th>324</th>\n",
       "      <td>熱愛美食不跟風的本人第一次體驗海底撈， 有訂位但還是候位很久，好不容易吃到鍋，吃飯環境吵雜...</td>\n",
       "      <td>0</td>\n",
       "    </tr>\n",
       "    <tr>\n",
       "      <th>325</th>\n",
       "      <td>坦白說信義店的服務真的不如以往 海底撈肉麻式服務有貫徹到底的應該只有中華人民共和國地區的店...</td>\n",
       "      <td>1</td>\n",
       "    </tr>\n",
       "    <tr>\n",
       "      <th>326</th>\n",
       "      <td>味美、服務好 如果有香菜 那就更棒了 幾次去，都沒找到香菜 內部廁所比較少間一點，但是可以...</td>\n",
       "      <td>1</td>\n",
       "    </tr>\n",
       "    <tr>\n",
       "      <th>327</th>\n",
       "      <td>人好多，等好久,不過還有那個價值，可。以嚐試</td>\n",
       "      <td>1</td>\n",
       "    </tr>\n",
       "  </tbody>\n",
       "</table>\n",
       "<p>328 rows × 2 columns</p>\n",
       "</div>"
      ],
      "text/plain": [
       "                                               caption rating\n",
       "0    平日2人去不用候位太久覺得很棒，雖然用餐不限時間但是也不會讓客人等太久，很有效率的店，安排的...      1\n",
       "1    員工服務招待的很棒！覺得除了食物也值回票價！ 服務我們這桌的茈珞、嘉祥、超宇跟奕維讓我們印象...      1\n",
       "2                                 服務很好，東西好吃，又有美甲跟擦鞋服務。      1\n",
       "3                                              桌邊服務品質好      1\n",
       "4                         海底撈服務沒什麼好挑的 湯底推豬肚雞 真材實料CP值很高      1\n",
       "5                      桌邊服務很好 但是等待時間蠻久的，如果沒有訂位還是要有心理準備      1\n",
       "6    店員（陳冠宇） 服務態度是我吃海底撈這麼多次以來第一個讓我想寫評論的人，服務態度真的真的很好...      1\n",
       "7                                 服務人員～陳冠宇服務親切、貼心、有效率👍      1\n",
       "8                                                 服務優質      1\n",
       "9                              乾淨，服務好，小孩有地方玩，媽媽可以好好吃飯。      1\n",
       "10    今天去的是新義區的分店，海底撈進駐台灣在口味也做了調整，相較於大陸算是清淡些，提供的副食少...      1\n",
       "11                                      服務非常好  麻辣鍋湯底很讚      1\n",
       "12                                          服務親切，店員都好帥      1\n",
       "13                                  服務滿分，餐點偏貴，嚐鮮一次還算ok      1\n",
       "14    服務超好的👍隨叫隨到 真的是吃服務的但不收服務費 還有麻辣鍋超級麻辣的 是屬於四川的小辣 ...      1\n",
       "15    信義店于娣的服務很棒！食材新鮮，口味豐富，燈光，音樂，氛圍，表演，整潔舒適的用餐環境，細膩...      1\n",
       "16    N訪海底撈 吃來吃去還是信義店最好吃🏆 海底撈暖胃茈珞暖心 茈珞真的好QQ又貼心又可愛 豐...      1\n",
       "17                                     服務不錯，還有機器人服務很好玩      1\n",
       "18    2020.12.31年底，來到海底撈信義店用餐，從大堂經理超哥😊，到服務員林佑存😃真的非常...      1\n",
       "19                    服務好，但太貴了，兩個人總共2400，完全吃不飽，不會二訪了⋯⋯      0\n",
       "20                                                 環境好      1\n",
       "21                  服務人員非常熱心、親切！店內環境整潔、舒適！豬肚雞湯、麻辣湯超好喝！      1\n",
       "22    點了麻辣和白湯 兩個都很喜歡 牛小排單價稍高但很好吃 推薦蝦滑 青菜也都新鮮好吃 服務也很...      1\n",
       "23    我很喜歡所有服務人員的服務，從一進門的招呼服務生（感覺出來他感冒喉嚨有些沙啞），到後面接待...      1\n",
       "24    店長事後得知消息立即電聯處理，表示可能是新的服務生訓練不足，但後續補救態度良好。暫且由一星...      1\n",
       "25    變臉很特別!! 好喜歡蝦滑和炸魚皮~~ 銀絲卷炸過沾煉乳太犯規了！四個人吃下來一人350覺...      1\n",
       "26                                          對輪椅使用者服務超好      1\n",
       "27          這家每到假日我只要來信義區逛街,都會吃他們家~ 因為空間寬敞,食材的準備上也十分新鮮      1\n",
       "28    不吃辣要注意，即時是小辣還是要小心，不然胃會傷，可以用清水稍微涮一下。各項餐點都還不錯，服...      1\n",
       "29       Great service, great show, great performance!      1\n",
       "..                                                 ...    ...\n",
       "298                                         服務很棒！ 真的超棒      1\n",
       "299   來過四、五次，服務真的很好，食材新鮮多元。 我最常點的湯底是牛油麻辣鍋，跟一般麻辣鍋比起來...      1\n",
       "300                         服務態度超好，還有變臉秀可以看，東西有點貴其實算普通      1\n",
       "301                       豬肚湯必點 服務到位 但暢飲的飲料續杯的積極度可以再提升      1\n",
       "302                        第一次吃是去慶城街 這次是信義店 服務不錯，又不限時間      1\n",
       "303   場地時尚寬敞，服務超級親切，在等待時間有點心餅乾等，另有一新時代的按摩椅可放輕鬆一下，還可...      1\n",
       "304   好吃的鴛鴦麻辣鍋，最近因為疫情的關係，人潮變得比較少，但比起其他餐廳還算是可以的，餐廳本棟...      1\n",
       "305   妗羚滿滿的熱情，親切的服務，讓初次到訪的來賓，如沐春風，對海底撈食物品質，明亮空間與歡樂氛...      1\n",
       "306                             服務真的超級好！東西也蠻特別的,真的很值得！      1\n",
       "307   海底撈自製撈派豆花的豆香味濃又軟嫩，滑順口感入口即化。撈派蝦滑，店員會來個桌邊服務幫忙下鍋...      0\n",
       "308   第一次來吃信義店 服務員是家熏 非常貼心 上菜就幫我們擺盤擺好 直接就可以拍照 來信義店真...      1\n",
       "309                          家熏真的很棒很貼心❤️很喜歡 以後希望能都給他服務      1\n",
       "310                          My favorite hotpot place!      1\n",
       "311                     服務很好點餐方便但食材一般😐川劇變臉第一次在現場看蠻新鮮的🤭      0\n",
       "312                                      于寧服務很棒～👍🏻👍🏻👍🏻      1\n",
       "313                                          造訪很多次。揪感心      1\n",
       "314                                食材不錯 醬料美味 服務滿意 表演有素      1\n",
       "315                       服務很好，湯頭也不錯，服務生都身懷絕技且熱忱，真的超棒。      1\n",
       "316                                           服務人員相當熱情      1\n",
       "317                                           變臉👍🏻服務👍🏻      1\n",
       "318   去過慶城店再來這家 不會想再來了 一個口音不是很像台灣人的服務生態度有待加強 點十八天 送...      0\n",
       "319                          湯頭及食材都蠻用心的，服務生態度也是有特別訓練過。      1\n",
       "320                     三鮮湯必點、非常好喝。東西都還可以 以服務取勝的火鍋店。讚！      1\n",
       "321                                      平均一個人500-600。      1\n",
       "322                                     謝謝海底撈 曾靜慈 服務生🥰      1\n",
       "323                                                服務好      1\n",
       "324   熱愛美食不跟風的本人第一次體驗海底撈， 有訂位但還是候位很久，好不容易吃到鍋，吃飯環境吵雜...      0\n",
       "325   坦白說信義店的服務真的不如以往 海底撈肉麻式服務有貫徹到底的應該只有中華人民共和國地區的店...      1\n",
       "326   味美、服務好 如果有香菜 那就更棒了 幾次去，都沒找到香菜 內部廁所比較少間一點，但是可以...      1\n",
       "327                             人好多，等好久,不過還有那個價值，可。以嚐試      1\n",
       "\n",
       "[328 rows x 2 columns]"
      ]
     },
     "execution_count": 87,
     "metadata": {},
     "output_type": "execute_result"
    }
   ],
   "source": [
    "test_csv = pd.read_csv('hai500.csv', index_col=0) # 讀取資料\n",
    "\n",
    "test_csv.head()\n",
    "\n",
    "# print(''.join([i for i in test_haidelao['caption'].values[1] if not i.isdigit()])\n",
    "\n",
    "test_haidelao = pd.DataFrame(test_csv['caption'].astype(str))\n",
    "test_haidelao['rating'] = test_csv['rating'].astype(str)\n",
    "\n",
    "# rating 3以下評價視為負評\n",
    "test_haidelao.loc[test_haidelao.rating=='4' , 'rating'] = 1\n",
    "test_haidelao.loc[test_haidelao.rating=='5' , 'rating'] = 1\n",
    "test_haidelao.loc[test_haidelao.rating!=1, 'rating'] = 0\n",
    "\n",
    "test_haidelao = test_haidelao[test_haidelao['caption'] != 'nan']\n",
    "\n",
    "test_haidelao.reset_index(drop=True, inplace=True)\n",
    "test_haidelao"
   ]
  },
  {
   "cell_type": "code",
   "execution_count": 110,
   "metadata": {},
   "outputs": [
    {
     "name": "stdout",
     "output_type": "stream",
     "text": [
      "<wordcloud.wordcloud.WordCloud object at 0x1afeb8a58>\n"
     ]
    },
    {
     "data": {
      "image/png": "[encoded data removed]",
      "text/plain": [
       "<Figure size 432x288 with 1 Axes>"
      ]
     },
     "metadata": {
      "needs_background": "light"
     },
     "output_type": "display_data"
    },
    {
     "ename": "KeyError",
     "evalue": "'review'",
     "output_type": "error",
     "traceback": [
      "\u001b[0;31m---------------------------------------------------------------------------\u001b[0m",
      "\u001b[0;31mKeyError\u001b[0m                                  Traceback (most recent call last)",
      "\u001b[0;32m//anaconda3/lib/python3.7/site-packages/pandas/core/indexes/base.py\u001b[0m in \u001b[0;36mget_loc\u001b[0;34m(self, key, method, tolerance)\u001b[0m\n\u001b[1;32m   2656\u001b[0m             \u001b[0;32mtry\u001b[0m\u001b[0;34m:\u001b[0m\u001b[0;34m\u001b[0m\u001b[0;34m\u001b[0m\u001b[0m\n\u001b[0;32m-> 2657\u001b[0;31m                 \u001b[0;32mreturn\u001b[0m \u001b[0mself\u001b[0m\u001b[0;34m.\u001b[0m\u001b[0m_engine\u001b[0m\u001b[0;34m.\u001b[0m\u001b[0mget_loc\u001b[0m\u001b[0;34m(\u001b[0m\u001b[0mkey\u001b[0m\u001b[0;34m)\u001b[0m\u001b[0;34m\u001b[0m\u001b[0;34m\u001b[0m\u001b[0m\n\u001b[0m\u001b[1;32m   2658\u001b[0m             \u001b[0;32mexcept\u001b[0m \u001b[0mKeyError\u001b[0m\u001b[0;34m:\u001b[0m\u001b[0;34m\u001b[0m\u001b[0;34m\u001b[0m\u001b[0m\n",
      "\u001b[0;32mpandas/_libs/index.pyx\u001b[0m in \u001b[0;36mpandas._libs.index.IndexEngine.get_loc\u001b[0;34m()\u001b[0m\n",
      "\u001b[0;32mpandas/_libs/index.pyx\u001b[0m in \u001b[0;36mpandas._libs.index.IndexEngine.get_loc\u001b[0;34m()\u001b[0m\n",
      "\u001b[0;32mpandas/_libs/hashtable_class_helper.pxi\u001b[0m in \u001b[0;36mpandas._libs.hashtable.PyObjectHashTable.get_item\u001b[0;34m()\u001b[0m\n",
      "\u001b[0;32mpandas/_libs/hashtable_class_helper.pxi\u001b[0m in \u001b[0;36mpandas._libs.hashtable.PyObjectHashTable.get_item\u001b[0;34m()\u001b[0m\n",
      "\u001b[0;31mKeyError\u001b[0m: 'review'",
      "\nDuring handling of the above exception, another exception occurred:\n",
      "\u001b[0;31mKeyError\u001b[0m                                  Traceback (most recent call last)",
      "\u001b[0;32m<ipython-input-110-b098e1a025f5>\u001b[0m in \u001b[0;36m<module>\u001b[0;34m\u001b[0m\n\u001b[1;32m     41\u001b[0m \u001b[0mplt\u001b[0m\u001b[0;34m.\u001b[0m\u001b[0mshow\u001b[0m\u001b[0;34m(\u001b[0m\u001b[0;34m)\u001b[0m\u001b[0;34m\u001b[0m\u001b[0;34m\u001b[0m\u001b[0m\n\u001b[1;32m     42\u001b[0m \u001b[0mfig\u001b[0m\u001b[0;34m.\u001b[0m\u001b[0msavefig\u001b[0m\u001b[0;34m(\u001b[0m\u001b[0;34m\"word2.png\"\u001b[0m\u001b[0;34m,\u001b[0m \u001b[0mdpi\u001b[0m\u001b[0;34m=\u001b[0m\u001b[0;36m1000\u001b[0m\u001b[0;34m)\u001b[0m\u001b[0;34m\u001b[0m\u001b[0;34m\u001b[0m\u001b[0m\n\u001b[0;32m---> 43\u001b[0;31m \u001b[0mnegative\u001b[0m\u001b[0;34m[\u001b[0m\u001b[0;34m'review'\u001b[0m\u001b[0;34m]\u001b[0m\u001b[0;34m\u001b[0m\u001b[0;34m\u001b[0m\u001b[0m\n\u001b[0m",
      "\u001b[0;32m//anaconda3/lib/python3.7/site-packages/pandas/core/frame.py\u001b[0m in \u001b[0;36m__getitem__\u001b[0;34m(self, key)\u001b[0m\n\u001b[1;32m   2925\u001b[0m             \u001b[0;32mif\u001b[0m \u001b[0mself\u001b[0m\u001b[0;34m.\u001b[0m\u001b[0mcolumns\u001b[0m\u001b[0;34m.\u001b[0m\u001b[0mnlevels\u001b[0m \u001b[0;34m>\u001b[0m \u001b[0;36m1\u001b[0m\u001b[0;34m:\u001b[0m\u001b[0;34m\u001b[0m\u001b[0;34m\u001b[0m\u001b[0m\n\u001b[1;32m   2926\u001b[0m                 \u001b[0;32mreturn\u001b[0m \u001b[0mself\u001b[0m\u001b[0;34m.\u001b[0m\u001b[0m_getitem_multilevel\u001b[0m\u001b[0;34m(\u001b[0m\u001b[0mkey\u001b[0m\u001b[0;34m)\u001b[0m\u001b[0;34m\u001b[0m\u001b[0;34m\u001b[0m\u001b[0m\n\u001b[0;32m-> 2927\u001b[0;31m             \u001b[0mindexer\u001b[0m \u001b[0;34m=\u001b[0m \u001b[0mself\u001b[0m\u001b[0;34m.\u001b[0m\u001b[0mcolumns\u001b[0m\u001b[0;34m.\u001b[0m\u001b[0mget_loc\u001b[0m\u001b[0;34m(\u001b[0m\u001b[0mkey\u001b[0m\u001b[0;34m)\u001b[0m\u001b[0;34m\u001b[0m\u001b[0;34m\u001b[0m\u001b[0m\n\u001b[0m\u001b[1;32m   2928\u001b[0m             \u001b[0;32mif\u001b[0m \u001b[0mis_integer\u001b[0m\u001b[0;34m(\u001b[0m\u001b[0mindexer\u001b[0m\u001b[0;34m)\u001b[0m\u001b[0;34m:\u001b[0m\u001b[0;34m\u001b[0m\u001b[0;34m\u001b[0m\u001b[0m\n\u001b[1;32m   2929\u001b[0m                 \u001b[0mindexer\u001b[0m \u001b[0;34m=\u001b[0m \u001b[0;34m[\u001b[0m\u001b[0mindexer\u001b[0m\u001b[0;34m]\u001b[0m\u001b[0;34m\u001b[0m\u001b[0;34m\u001b[0m\u001b[0m\n",
      "\u001b[0;32m//anaconda3/lib/python3.7/site-packages/pandas/core/indexes/base.py\u001b[0m in \u001b[0;36mget_loc\u001b[0;34m(self, key, method, tolerance)\u001b[0m\n\u001b[1;32m   2657\u001b[0m                 \u001b[0;32mreturn\u001b[0m \u001b[0mself\u001b[0m\u001b[0;34m.\u001b[0m\u001b[0m_engine\u001b[0m\u001b[0;34m.\u001b[0m\u001b[0mget_loc\u001b[0m\u001b[0;34m(\u001b[0m\u001b[0mkey\u001b[0m\u001b[0;34m)\u001b[0m\u001b[0;34m\u001b[0m\u001b[0;34m\u001b[0m\u001b[0m\n\u001b[1;32m   2658\u001b[0m             \u001b[0;32mexcept\u001b[0m \u001b[0mKeyError\u001b[0m\u001b[0;34m:\u001b[0m\u001b[0;34m\u001b[0m\u001b[0;34m\u001b[0m\u001b[0m\n\u001b[0;32m-> 2659\u001b[0;31m                 \u001b[0;32mreturn\u001b[0m \u001b[0mself\u001b[0m\u001b[0;34m.\u001b[0m\u001b[0m_engine\u001b[0m\u001b[0;34m.\u001b[0m\u001b[0mget_loc\u001b[0m\u001b[0;34m(\u001b[0m\u001b[0mself\u001b[0m\u001b[0;34m.\u001b[0m\u001b[0m_maybe_cast_indexer\u001b[0m\u001b[0;34m(\u001b[0m\u001b[0mkey\u001b[0m\u001b[0;34m)\u001b[0m\u001b[0;34m)\u001b[0m\u001b[0;34m\u001b[0m\u001b[0;34m\u001b[0m\u001b[0m\n\u001b[0m\u001b[1;32m   2660\u001b[0m         \u001b[0mindexer\u001b[0m \u001b[0;34m=\u001b[0m \u001b[0mself\u001b[0m\u001b[0;34m.\u001b[0m\u001b[0mget_indexer\u001b[0m\u001b[0;34m(\u001b[0m\u001b[0;34m[\u001b[0m\u001b[0mkey\u001b[0m\u001b[0;34m]\u001b[0m\u001b[0;34m,\u001b[0m \u001b[0mmethod\u001b[0m\u001b[0;34m=\u001b[0m\u001b[0mmethod\u001b[0m\u001b[0;34m,\u001b[0m \u001b[0mtolerance\u001b[0m\u001b[0;34m=\u001b[0m\u001b[0mtolerance\u001b[0m\u001b[0;34m)\u001b[0m\u001b[0;34m\u001b[0m\u001b[0;34m\u001b[0m\u001b[0m\n\u001b[1;32m   2661\u001b[0m         \u001b[0;32mif\u001b[0m \u001b[0mindexer\u001b[0m\u001b[0;34m.\u001b[0m\u001b[0mndim\u001b[0m \u001b[0;34m>\u001b[0m \u001b[0;36m1\u001b[0m \u001b[0;32mor\u001b[0m \u001b[0mindexer\u001b[0m\u001b[0;34m.\u001b[0m\u001b[0msize\u001b[0m \u001b[0;34m>\u001b[0m \u001b[0;36m1\u001b[0m\u001b[0;34m:\u001b[0m\u001b[0;34m\u001b[0m\u001b[0;34m\u001b[0m\u001b[0m\n",
      "\u001b[0;32mpandas/_libs/index.pyx\u001b[0m in \u001b[0;36mpandas._libs.index.IndexEngine.get_loc\u001b[0;34m()\u001b[0m\n",
      "\u001b[0;32mpandas/_libs/index.pyx\u001b[0m in \u001b[0;36mpandas._libs.index.IndexEngine.get_loc\u001b[0;34m()\u001b[0m\n",
      "\u001b[0;32mpandas/_libs/hashtable_class_helper.pxi\u001b[0m in \u001b[0;36mpandas._libs.hashtable.PyObjectHashTable.get_item\u001b[0;34m()\u001b[0m\n",
      "\u001b[0;32mpandas/_libs/hashtable_class_helper.pxi\u001b[0m in \u001b[0;36mpandas._libs.hashtable.PyObjectHashTable.get_item\u001b[0;34m()\u001b[0m\n",
      "\u001b[0;31mKeyError\u001b[0m: 'review'"
     ]
    }
   ],
   "source": [
    "import nltk\n",
    "from wordcloud import WordCloud\n",
    "import numpy as np # linear algebra\n",
    "import pandas as pd \n",
    "import matplotlib as mpl\n",
    "import matplotlib.pyplot as plt\n",
    "%matplotlib inline\n",
    "\n",
    "from subprocess import check_output\n",
    "from wordcloud import WordCloud, STOPWORDS\n",
    "\n",
    "#mpl.rcParams['figure.figsize']=(8.0,6.0)    #(6.0,4.0)\n",
    "\n",
    "mpl.rcParams['font.size']=12                #10 \n",
    "mpl.rcParams['savefig.dpi']=100             #72 \n",
    "mpl.rcParams['figure.subplot.bottom']=.1 \n",
    "\n",
    "stopwords = set(STOPWORDS)\n",
    "\n",
    "wc=WordCloud(font_path = '/Desktop/kaiu.ttf',background_color = 'White', max_words = 100)\n",
    "\n",
    "postive = test_haidelao[test_haidelao['rating'] != 0]\n",
    "negative = test_haidelao[test_haidelao['rating'] != 1]\n",
    "\n",
    "wordcloud = WordCloud(\n",
    "                          font_path = '/Desktop/kaiu.ttf',\n",
    "                          background_color='white',\n",
    "                          stopwords=stopwords,\n",
    "                          max_words=200,\n",
    "                          max_font_size=40, \n",
    "                          random_state=42\n",
    "                         )\n",
    "#.generate(str(test['review']))\n",
    "\n",
    "wordcloud.generate(str(negative['caption']))\n",
    "#wordcloud.generate(str(a))\n",
    "print(wordcloud)\n",
    "fig = plt.figure(1)\n",
    "plt.imshow(wordcloud)\n",
    "plt.axis('off')\n",
    "plt.show()\n",
    "fig.savefig(\"word2.png\", dpi=1000)\n",
    "negative['review']"
   ]
  },
  {
   "cell_type": "code",
   "execution_count": null,
   "metadata": {},
   "outputs": [],
   "source": []
  }
 ],
 "metadata": {
  "kernelspec": {
   "display_name": "Python 3",
   "language": "python",
   "name": "python3"
  },
  "language_info": {
   "codemirror_mode": {
    "name": "ipython",
    "version": 3
   },
   "file_extension": ".py",
   "mimetype": "text/x-python",
   "name": "python",
   "nbconvert_exporter": "python",
   "pygments_lexer": "ipython3",
   "version": "3.7.3"
  }
 },
 "nbformat": 4,
 "nbformat_minor": 2
}
